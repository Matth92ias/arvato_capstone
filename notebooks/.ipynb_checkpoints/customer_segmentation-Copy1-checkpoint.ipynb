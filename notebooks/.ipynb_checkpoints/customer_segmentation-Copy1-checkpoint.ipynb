{
 "cells": [
  {
   "cell_type": "code",
   "execution_count": 17,
   "metadata": {},
   "outputs": [],
   "source": [
    "import os\n",
    "import sys\n",
    "import re\n",
    "\n",
    "src_dir = os.path.join(os.getcwd(), '..', 'src')\n",
    "sys.path.append(src_dir)\n",
    "data_dir = os.path.join(os.getcwd(), '..', 'data')\n",
    "\n",
    "# import libraries here; add more as necessary\n",
    "import numpy as np\n",
    "import pandas as pd\n",
    "\n",
    "from sklearn.pipeline import Pipeline\n",
    "from sklearn.compose import ColumnTransformer\n",
    "from sklearn.impute import SimpleImputer\n",
    "from sklearn.preprocessing import StandardScaler, OneHotEncoder\n",
    "from sklearn.decomposition import PCA \n",
    "\n",
    "import matplotlib.pyplot as plt\n",
    "\n",
    "\n",
    "import etl\n",
    "import pipe\n",
    "\n",
    "# magic word for producing visualizations in notebook\n",
    "%matplotlib inline"
   ]
  },
  {
   "cell_type": "code",
   "execution_count": 8,
   "metadata": {},
   "outputs": [],
   "source": [
    "#azdiad_path = os.path.join(data_dir,'01_preprocessed/','azdiad.pkl')\n",
    "#azdiad = pd.read_pickle(azdiad_path) \n",
    "customer_path = os.path.join(data_dir,'01_preprocessed/','customers.pkl')\n",
    "customers = pd.read_pickle(customer_path)  \n",
    "data_dict_path = os.path.join(data_dir,'01_preprocessed/','data_dictionary_full.xlsx')\n",
    "data_dict = pd.read_excel(data_dict_path, index_col=0)\n",
    "\n",
    "# move to clean data\n",
    "customers['OST_WEST_KZ'] = customers['OST_WEST_KZ'].map(lambda x: 1 if x == 'W' else 0)\n",
    "#azdiad['OST_WEST_KZ'] = azdiad['OST_WEST_KZ'].map(lambda x: 1 if x == 'W' else 0)\n",
    "\n"
   ]
  },
  {
   "cell_type": "code",
   "execution_count": null,
   "metadata": {},
   "outputs": [],
   "source": [
    "categorical_transformer = Pipeline(steps = [\n",
    "     ('imputer',SimpleImputer(strategy = 'constant',fill_value = 99)),\n",
    "     ('one_hot',OneHotEncoder(handle_unknown='ignore'))\n",
    "])\n",
    "                                 "
   ]
  },
  {
   "cell_type": "code",
   "execution_count": null,
   "metadata": {},
   "outputs": [],
   "source": [
    "data_dict['Type'].value_counts()"
   ]
  },
  {
   "cell_type": "code",
   "execution_count": null,
   "metadata": {},
   "outputs": [],
   "source": [
    "cat_vars = pipe.get_attr_by_type('categorical',data_dict)\n",
    "cat_vars"
   ]
  },
  {
   "cell_type": "code",
   "execution_count": null,
   "metadata": {},
   "outputs": [],
   "source": [
    "categorical_transformer.fit(customers[cat_vars])"
   ]
  },
  {
   "cell_type": "code",
   "execution_count": null,
   "metadata": {},
   "outputs": [],
   "source": [
    "categorical_transformer['one_hot'].get_feature_names(cat_vars)"
   ]
  },
  {
   "cell_type": "code",
   "execution_count": null,
   "metadata": {},
   "outputs": [],
   "source": [
    "one_hot_feature_names = categorical_transformer['one_hot'].get_feature_names(cat_vars)\n",
    "pd.DataFrame(categorical_transformer.transform(customers[cat_vars]).todense(),columns=one_hot_feature_names).head(10)"
   ]
  },
  {
   "cell_type": "code",
   "execution_count": null,
   "metadata": {},
   "outputs": [],
   "source": [
    "numerical_transformer = Pipeline(steps = [\n",
    "     ('imputer',SimpleImputer(strategy = 'median')),\n",
    "     ('scale',StandardScaler())\n",
    "])"
   ]
  },
  {
   "cell_type": "code",
   "execution_count": null,
   "metadata": {},
   "outputs": [],
   "source": [
    "num_vars = pipe.get_attr_by_type('numeric',data_dict)\n",
    "num_vars"
   ]
  },
  {
   "cell_type": "code",
   "execution_count": null,
   "metadata": {},
   "outputs": [],
   "source": [
    "numerical_transformer.fit(customers[num_vars])"
   ]
  },
  {
   "cell_type": "code",
   "execution_count": null,
   "metadata": {},
   "outputs": [],
   "source": [
    "numerical_transformer.transform(customers[num_vars])"
   ]
  },
  {
   "cell_type": "code",
   "execution_count": null,
   "metadata": {},
   "outputs": [],
   "source": [
    "bin_vars = pipe.get_attr_by_type('binary',data_dict)\n",
    "bin_vars"
   ]
  },
  {
   "cell_type": "code",
   "execution_count": null,
   "metadata": {},
   "outputs": [],
   "source": [
    "binary_transformer = Pipeline(steps = [\n",
    "     ('imputer',SimpleImputer(strategy = 'most_frequent'))\n",
    "])"
   ]
  },
  {
   "cell_type": "code",
   "execution_count": null,
   "metadata": {},
   "outputs": [],
   "source": [
    "binary_transformer.fit(customers[bin_vars])"
   ]
  },
  {
   "cell_type": "code",
   "execution_count": null,
   "metadata": {},
   "outputs": [],
   "source": [
    "col_trans = ColumnTransformer([\n",
    "        ('categorical', categorical_transformer,cat_vars),\n",
    "        ('numeric', numerical_transformer,num_vars),\n",
    "        ('binary', binary_transformer,bin_vars),\n",
    "])"
   ]
  },
  {
   "cell_type": "code",
   "execution_count": null,
   "metadata": {},
   "outputs": [],
   "source": [
    "col_trans.fit(customers)"
   ]
  }
 ],
 "metadata": {
  "kernelspec": {
   "display_name": "Python 3",
   "language": "python",
   "name": "python3"
  },
  "language_info": {
   "codemirror_mode": {
    "name": "ipython",
    "version": 3
   },
   "file_extension": ".py",
   "mimetype": "text/x-python",
   "name": "python",
   "nbconvert_exporter": "python",
   "pygments_lexer": "ipython3",
   "version": "3.6.5"
  }
 },
 "nbformat": 4,
 "nbformat_minor": 2
}
