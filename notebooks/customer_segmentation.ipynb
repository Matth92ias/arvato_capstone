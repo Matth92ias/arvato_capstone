{
 "cells": [
  {
   "cell_type": "code",
   "execution_count": 2,
   "metadata": {},
   "outputs": [],
   "source": [
    "import os\n",
    "import sys\n",
    "import re\n",
    "\n",
    "src_dir = os.path.join(os.getcwd(), '..', 'src')\n",
    "sys.path.append(src_dir)\n",
    "data_dir = os.path.join(os.getcwd(), '..', 'data')\n",
    "\n",
    "# import libraries here; add more as necessary\n",
    "import numpy as np\n",
    "import pandas as pd\n",
    "\n",
    "from sklearn.pipeline import Pipeline\n",
    "from sklearn.compose import ColumnTransformer\n",
    "\n",
    "from sklearn.impute import SimpleImputer\n",
    "from sklearn.preprocessing import StandardScaler, OneHotEncoder\n",
    "\n",
    "from sklearn.decomposition import PCA \n",
    "from sklearn.cluster import MiniBatchKMeans\n",
    "\n",
    "import matplotlib.pyplot as plt\n",
    "\n",
    "\n",
    "import etl\n",
    "import pipe\n",
    "\n",
    "# magic word for producing visualizations in notebook\n",
    "%matplotlib inline"
   ]
  },
  {
   "cell_type": "code",
   "execution_count": 3,
   "metadata": {},
   "outputs": [],
   "source": [
    "azdiad_path = os.path.join(data_dir,'01_preprocessed/','azdiad.pkl')\n",
    "azdiad = pd.read_pickle(azdiad_path) \n",
    "customer_path = os.path.join(data_dir,'01_preprocessed/','customers.pkl')\n",
    "customers = pd.read_pickle(customer_path)  \n",
    "data_dict_path = os.path.join(data_dir,'01_preprocessed/','data_dictionary_full.xlsx')\n",
    "data_dict = pd.read_excel(data_dict_path, index_col=0)\n",
    "\n"
   ]
  },
  {
   "cell_type": "code",
   "execution_count": 3,
   "metadata": {},
   "outputs": [],
   "source": [
    "col_trans = pipe.define_pipeline(data_dict)\n",
    "col_trans.fit(azdiad)\n",
    "azdiad_trans = col_trans.transform(azdiad)"
   ]
  },
  {
   "cell_type": "markdown",
   "metadata": {},
   "source": [
    "The next step is to fit a PCA to the the data. After fitting the PCA it is necessary to  find a reasonable amount of components which describe most of variance the data. This is done visually."
   ]
  },
  {
   "cell_type": "code",
   "execution_count": 9,
   "metadata": {},
   "outputs": [
    {
     "data": {
      "text/plain": [
       "PCA()"
      ]
     },
     "execution_count": 9,
     "metadata": {},
     "output_type": "execute_result"
    }
   ],
   "source": [
    "pca = PCA()\n",
    "pca.fit(azdiad_trans)"
   ]
  },
  {
   "cell_type": "markdown",
   "metadata": {},
   "source": [
    "In the following graph you can see that the share of explained variance drops visually around 230 components. That is the number of components I am going to use. "
   ]
  },
  {
   "cell_type": "code",
   "execution_count": 14,
   "metadata": {},
   "outputs": [
    {
     "data": {
      "image/png": "[encoded data removed]",
      "text/plain": [
       "<Figure size 1080x720 with 1 Axes>"
      ]
     },
     "metadata": {},
     "output_type": "display_data"
    }
   ],
   "source": [
    "#fig, ax = plt.subplots()\n",
    "\n",
    "plt.figure(figsize=(15, 10))\n",
    "\n",
    "xi = np.arange(1,len(pca.explained_variance_)+1,step=1)\n",
    "y = np.cumsum(pca.explained_variance_ratio_)\n",
    "y2 = pca.explained_variance_ratio_\n",
    "\n",
    "plt.ylim(0,1.1)\n",
    "plt.plot(xi,y,linestyle='-',color='b')\n",
    "\n",
    "plt.xlabel('Number of Components')\n",
    "#plt.xticks(xi)\n",
    "plt.ylabel('Cumulative variance(%)')\n",
    "plt.title('The number of components needed to explain variance')\n",
    "\n",
    "plt.bar(xi,y2)\n",
    "\n",
    "#plt.axhline(y=0.95,color='r',linestyle='-')\n",
    "plt.axvline(x=245,color='r',linestyle='-')\n",
    "\n",
    "plt.show()"
   ]
  },
  {
   "cell_type": "code",
   "execution_count": 57,
   "metadata": {},
   "outputs": [
    {
     "data": {
      "text/plain": [
       "PCA(n_components=245)"
      ]
     },
     "execution_count": 57,
     "metadata": {},
     "output_type": "execute_result"
    }
   ],
   "source": [
    "pca_n245 = PCA(n_components=245)\n",
    "pca_n245.fit(azdiad_trans)"
   ]
  },
  {
   "cell_type": "markdown",
   "metadata": {},
   "source": [
    "The following shows the percentage of variance explained by each of the first 20 components"
   ]
  },
  {
   "cell_type": "code",
   "execution_count": 135,
   "metadata": {},
   "outputs": [
    {
     "data": {
      "text/plain": [
       "array([0.07, 0.05, 0.03, 0.03, 0.02, 0.02, 0.02, 0.02, 0.02, 0.02, 0.02,\n",
       "       0.01, 0.01, 0.01, 0.01, 0.01, 0.01, 0.01, 0.01, 0.01])"
      ]
     },
     "execution_count": 135,
     "metadata": {},
     "output_type": "execute_result"
    }
   ],
   "source": [
    "np.round(pca.explained_variance_ratio_,2)[0:20]"
   ]
  },
  {
   "cell_type": "markdown",
   "metadata": {},
   "source": [
    "To get a feeling for what influences the individual components most: "
   ]
  },
  {
   "cell_type": "code",
   "execution_count": 153,
   "metadata": {},
   "outputs": [],
   "source": [
    "cat_vars = pipe.get_attr_by_type('categorical',data_dict)\n",
    "cat_vars_ohe = col_trans.transformers_[0][1]['one_hot'].get_feature_names(cat_vars)\n",
    "num_vars = pipe.get_attr_by_type('numeric',data_dict)\n",
    "bin_vars = pipe.get_attr_by_type('binary',data_dict)\n",
    "all_vars = np.concatenate((cat_vars_ohe ,num_vars,bin_vars))"
   ]
  },
  {
   "cell_type": "code",
   "execution_count": 136,
   "metadata": {},
   "outputs": [
    {
     "name": "stdout",
     "output_type": "stream",
     "text": [
      "For component 0 the most important positive features are the following:  \n",
      " {'PLZ8_ANTG3': 0.163, 'KBA13_ANTG3': 0.163, 'KBA13_ANTG4': 0.16, 'PLZ8_ANTG4': 0.158, 'KBA13_BAUMAX': 0.152}\n",
      "For component 0 the most important negative features are the following:  \n",
      " {'PLZ8_ANTG1': -0.166, 'KBA13_ANTG1': -0.165, 'MOBI_REGIO': -0.159, 'KBA05_ANTG1': -0.147, 'KBA13_AUTOQUOTE': -0.146}\n",
      "\n",
      "\n",
      "For component 1 the most important positive features are the following:  \n",
      " {'KBA13_HERST_BMW_BENZ': 0.19, 'KBA13_SEG_OBEREMITTELKLASSE': 0.163, 'KBA13_MERCEDES': 0.16, 'KBA13_BMW': 0.159, 'KBA13_SITZE_4': 0.148}\n",
      "For component 1 the most important negative features are the following:  \n",
      " {'KBA13_SITZE_5': -0.15, 'KBA13_KMH_140_210': -0.138, 'KBA13_SEG_KLEINWAGEN': -0.136, 'KBA13_KMH_180': -0.125, 'KBA13_HALTER_20': -0.123}\n",
      "\n",
      "\n",
      "For component 2 the most important positive features are the following:  \n",
      " {'ANZ_PERSONEN': 0.145, 'D19_SONSTIGE': 0.145, 'D19_BUCH_CD': 0.143, 'D19_TECHNIK': 0.14, 'D19_VOLLSORTIMENT': 0.139}\n",
      "For component 2 the most important negative features are the following:  \n",
      " {'KOMBIALTER': -0.195, 'D19_KONSUMTYP_MAX': -0.192, 'VK_DISTANZ': -0.155, 'SEMIO_KRIT': -0.135, 'D19_VERSI_DATUM': -0.114}\n",
      "\n",
      "\n",
      "For component 3 the most important positive features are the following:  \n",
      " {'ALTERSKATEGORIE_GROB': 0.153, 'KBA13_VORB_0': 0.141, 'KBA05_VORB0': 0.133, 'SEMIO_ERL': 0.131, 'SEMIO_LUST': 0.129}\n",
      "For component 3 the most important negative features are the following:  \n",
      " {'SEMIO_PFLICHT': -0.168, 'KBA13_BJ_2000': -0.156, 'SEMIO_TRADV': -0.154, 'SEMIO_REL': -0.144, 'SEMIO_KULT': -0.143}\n",
      "\n",
      "\n",
      "For component 4 the most important positive features are the following:  \n",
      " {'ALTERSKATEGORIE_GROB': 0.2, 'SEMIO_ERL': 0.19, 'KBA13_KW_0_60': 0.17, 'SEMIO_LUST': 0.142, 'KBA13_CCM_0_1400': 0.129}\n",
      "For component 4 the most important negative features are the following:  \n",
      " {'SEMIO_REL': -0.208, 'SEMIO_PFLICHT': -0.183, 'SEMIO_TRADV': -0.182, 'KBA13_KW_61_120': -0.173, 'SEMIO_KULT': -0.161}\n",
      "\n",
      "\n"
     ]
    }
   ],
   "source": [
    "def var_imp_for_comp(values_component,sorting_index,all_vars=all_vars,n_vars=5):\n",
    "    key = all_vars[sorting_index][0:n_vars] # var name\n",
    "    value = np.round(values_component[sorting_index],3)[0:n_vars] # importance of variable\n",
    "    var_imp_dict = dict(zip(key, value)) \n",
    "    \n",
    "    return var_imp_dict\n",
    "\n",
    "for comp in range(5):\n",
    "    values_component_i = pca_n245.components_[comp,:]\n",
    "\n",
    "    min_sort = np.argsort(values_component_i)\n",
    "    max_sort = min_sort[::-1]\n",
    "\n",
    "    var_imp_dict_min = var_imp_for_comp(values_component_i,min_sort)\n",
    "    var_imp_dict_max = var_imp_for_comp(values_component_i,max_sort)\n",
    "    \n",
    "    '''\n",
    "    key_max = all_vars[max_sort][0:5]\n",
    "    value_max = np.round(values_component_i[max_sort],3)[0:5]\n",
    "    dict_max = dict(zip(key_max, value_max)) \n",
    "\n",
    "    key_min = all_vars[min_sort][0:5]\n",
    "    value_min = np.round(values_component_i[min_sort],3)[0:5]\n",
    "    dict_min = dict(zip(key_min, value_min)) \n",
    "    '''\n",
    "    \n",
    "    print('For component {} the most important positive features are the following:  \\n {}'.format(comp,var_imp_dict_max))\n",
    "    print('For component {} the most important negative features are the following:  \\n {}'.format(comp,var_imp_dict_min))\n",
    "    print('\\n')"
   ]
  },
  {
   "cell_type": "markdown",
   "metadata": {},
   "source": [
    "The next step is to calculate the Within-Cluster-Sum of Squared Errors for different cluster sizes. The Squared Error for each data point is the square of the distance of the point from its representation to its predicted cluster center. The Euclidean distance is used as the distance measure. "
   ]
  },
  {
   "cell_type": "code",
   "execution_count": 140,
   "metadata": {},
   "outputs": [],
   "source": [
    "azdiad_pca = pca_n245.transform(azdiad_trans)"
   ]
  },
  {
   "cell_type": "code",
   "execution_count": 146,
   "metadata": {},
   "outputs": [
    {
     "name": "stdout",
     "output_type": "stream",
     "text": [
      "SSE for K = 1 is 24789329.64511587\n",
      "SSE for K = 2 is 15210409.757070746\n",
      "SSE for K = 3 is 14324078.972360972\n",
      "SSE for K = 4 is 11119138.7787715\n",
      "SSE for K = 5 is 8188550.493982349\n",
      "SSE for K = 6 is 9570732.366444986\n",
      "SSE for K = 7 is 7228487.711876838\n",
      "SSE for K = 8 is 7019549.146428235\n",
      "SSE for K = 9 is 7436731.203848341\n",
      "SSE for K = 10 is 6739051.3200900145\n",
      "SSE for K = 11 is 6853685.678779545\n",
      "SSE for K = 12 is 6486066.926854103\n",
      "SSE for K = 13 is 7819282.789694798\n",
      "SSE for K = 14 is 6610423.837363304\n",
      "SSE for K = 15 is 5788635.461069472\n",
      "SSE for K = 16 is 6472176.9247129\n",
      "SSE for K = 17 is 6127963.026790704\n",
      "SSE for K = 18 is 6195015.957574165\n",
      "SSE for K = 19 is 6247887.840961477\n",
      "SSE for K = 20 is 6500081.724904506\n",
      "SSE for K = 21 is 6579670.674388054\n",
      "SSE for K = 22 is 5789596.990813105\n",
      "SSE for K = 23 is 5904661.011841325\n",
      "SSE for K = 24 is 5791434.113700589\n",
      "SSE for K = 25 is 5989493.512427132\n",
      "SSE for K = 26 is 6194791.159202202\n",
      "SSE for K = 27 is 6122920.119822501\n",
      "SSE for K = 28 is 5902426.970589525\n",
      "SSE for K = 29 is 6322606.34781563\n",
      "SSE for K = 30 is 5556123.489626674\n"
     ]
    }
   ],
   "source": [
    "sse = pipe.calculate_WSS(azdiad_pca,30)"
   ]
  },
  {
   "cell_type": "markdown",
   "metadata": {},
   "source": [
    "The next step is to determine the optimal number of clusters by comparing different cluster numbers visually. A good size seems to be 7. From a 8 clusters on the WSS flucuates a lot and does not really lower much much. "
   ]
  },
  {
   "cell_type": "code",
   "execution_count": 155,
   "metadata": {},
   "outputs": [
    {
     "data": {
      "image/png": "[encoded data removed]",
      "text/plain": [
       "<Figure size 1080x720 with 1 Axes>"
      ]
     },
     "metadata": {},
     "output_type": "display_data"
    }
   ],
   "source": [
    "kmax = 30\n",
    "x = range(1, kmax+1)\n",
    "y = sse\n",
    "\n",
    "plt.figure(figsize=(15, 10))\n",
    "\n",
    "plt.plot(x,y,linestyle='-',color='b')\n",
    "\n",
    "plt.xticks(x)\n",
    "plt.xlabel('Number of Clusters K')\n",
    "plt.ylabel('WSS')\n",
    "plt.title('The Within-Cluster-Sum of Squared Errors calculated for Different number of Clusters')\n",
    "\n",
    "plt.axvline(x=7,color='r',linestyle='-')\n",
    "\n",
    "plt.show()"
   ]
  },
  {
   "cell_type": "markdown",
   "metadata": {},
   "source": [
    "Now after having identified the steps to get different and the parameters which are used in each step, I going to bundle all steps in a pipeline. This pipeline is then fitted on the azdiad data and afterwards "
   ]
  },
  {
   "cell_type": "code",
   "execution_count": 159,
   "metadata": {},
   "outputs": [
    {
     "data": {
      "text/plain": [
       "ColumnTransformer(transformers=[('categorical',\n",
       "                                 Pipeline(steps=[('imputer',\n",
       "                                                  SimpleImputer(fill_value=99,\n",
       "                                                                strategy='constant')),\n",
       "                                                 ('one_hot',\n",
       "                                                  OneHotEncoder(handle_unknown='ignore'))]),\n",
       "                                 array(['AKT_DAT_KL', 'CAMEO_DEUG_2015', 'CJT_GESAMTTYP',\n",
       "       'CJT_KATALOGNUTZER', 'CJT_TYP_1', 'CJT_TYP_2', 'CJT_TYP_3',\n",
       "       'CJT_TYP_4', 'CJT_TYP_5', 'CJT_TYP_6', 'DSL_FLAG',\n",
       "       'FINANZ_ANLEGER'...\n",
       "       'SEMIO_FAM', 'SEMIO_KAEM', 'SEMIO_KRIT', 'SEMIO_KULT',\n",
       "       'SEMIO_LUST', 'SEMIO_MAT', 'SEMIO_PFLICHT', 'SEMIO_RAT',\n",
       "       'SEMIO_REL', 'SEMIO_SOZ', 'SEMIO_TRADV', 'SEMIO_VERT',\n",
       "       'VK_DISTANZ', 'WOHNDAUER_2008', 'WOHNLAGE', 'ALTERSKATEGORIE_GROB'],\n",
       "      dtype=object)),\n",
       "                                ('binary',\n",
       "                                 Pipeline(steps=[('imputer',\n",
       "                                                  SimpleImputer(strategy='most_frequent'))]),\n",
       "                                 array(['GREEN_AVANTGARDE', 'OST_WEST_KZ', 'VERS_TYP', 'ANREDE_KZ'],\n",
       "      dtype=object))])"
      ]
     },
     "execution_count": 159,
     "metadata": {},
     "output_type": "execute_result"
    }
   ],
   "source": [
    "col_trans"
   ]
  },
  {
   "cell_type": "code",
   "execution_count": 5,
   "metadata": {},
   "outputs": [],
   "source": [
    "col_trans = pipe.define_pipeline(data_dict)\n",
    "cluster_pipeline = Pipeline(steps=[\n",
    "    ('transform',col_trans),\n",
    "    ('pca',PCA(n_components=245)),\n",
    "    ('kmeans',MiniBatchKMeans(n_clusters=7))\n",
    "])"
   ]
  },
  {
   "cell_type": "code",
   "execution_count": 6,
   "metadata": {},
   "outputs": [
    {
     "data": {
      "text/plain": [
       "Pipeline(steps=[('transform',\n",
       "                 ColumnTransformer(transformers=[('categorical',\n",
       "                                                  Pipeline(steps=[('imputer',\n",
       "                                                                   SimpleImputer(fill_value=99,\n",
       "                                                                                 strategy='constant')),\n",
       "                                                                  ('one_hot',\n",
       "                                                                   OneHotEncoder(handle_unknown='ignore'))]),\n",
       "                                                  array(['AKT_DAT_KL', 'CAMEO_DEUG_2015', 'CJT_GESAMTTYP',\n",
       "       'CJT_KATALOGNUTZER', 'CJT_TYP_1', 'CJT_TYP_2', 'CJT_TYP_3',\n",
       "       'CJT_TYP_4', 'CJT_TYP_5', 'CJT_TYP_6...\n",
       "       'SEMIO_REL', 'SEMIO_SOZ', 'SEMIO_TRADV', 'SEMIO_VERT',\n",
       "       'VK_DISTANZ', 'WOHNDAUER_2008', 'WOHNLAGE', 'ALTERSKATEGORIE_GROB'],\n",
       "      dtype=object)),\n",
       "                                                 ('binary',\n",
       "                                                  Pipeline(steps=[('imputer',\n",
       "                                                                   SimpleImputer(strategy='most_frequent'))]),\n",
       "                                                  array(['GREEN_AVANTGARDE', 'OST_WEST_KZ', 'VERS_TYP', 'ANREDE_KZ'],\n",
       "      dtype=object))])),\n",
       "                ('pca', PCA(n_components=245)),\n",
       "                ('kmeans', MiniBatchKMeans(n_clusters=7))])"
      ]
     },
     "execution_count": 6,
     "metadata": {},
     "output_type": "execute_result"
    }
   ],
   "source": [
    "cluster_pipeline.fit(azdiad)"
   ]
  },
  {
   "cell_type": "code",
   "execution_count": 91,
   "metadata": {},
   "outputs": [],
   "source": [
    "azdiad_preds = cluster_pipeline.predict(azdiad)\n",
    "customers_preds = cluster_pipeline.predict(customers)"
   ]
  },
  {
   "cell_type": "markdown",
   "metadata": {},
   "source": [
    "The next step is to compare the relation of people in the different clusters: "
   ]
  },
  {
   "cell_type": "code",
   "execution_count": 44,
   "metadata": {},
   "outputs": [],
   "source": [
    "clusters_azdiad = pd.value_counts(azdiad_preds) / len(azdiad_preds)\n",
    "clusters_azdiad = pd.DataFrame({'Relation': clusters_azdiad}).sort_index().reset_index().rename(columns = {'index': 'Cluster'})\n",
    "\n",
    "clusters_customers = pd.value_counts(customers_preds) / len(customers_preds)\n",
    "clusters_customers = pd.DataFrame({'Relation': clusters_customers}).sort_index().reset_index().rename(columns = {'index': 'Cluster'})\n",
    "\n",
    "\n",
    "\n"
   ]
  },
  {
   "cell_type": "code",
   "execution_count": 48,
   "metadata": {},
   "outputs": [
    {
     "data": {
      "text/plain": [
       "0    0\n",
       "1    1\n",
       "2    2\n",
       "3    3\n",
       "4    4\n",
       "5    5\n",
       "6    6\n",
       "Name: Cluster, dtype: int64"
      ]
     },
     "execution_count": 48,
     "metadata": {},
     "output_type": "execute_result"
    }
   ],
   "source": [
    "\n",
    "\n",
    "# Plotting\n",
    "plt.bar(ind, blue_bar , width, label='Blue bar label')\n",
    "plt.bar(ind + width, orange_bar, width, label='Orange bar label')"
   ]
  },
  {
   "cell_type": "code",
   "execution_count": 84,
   "metadata": {},
   "outputs": [
    {
     "data": {
      "image/png": "[encoded data removed]",
      "text/plain": [
       "<Figure size 1080x720 with 1 Axes>"
      ]
     },
     "metadata": {},
     "output_type": "display_data"
    }
   ],
   "source": [
    "plt.figure(figsize=(15, 10))\n",
    "\n",
    "width=0.3\n",
    "plt.bar(clusters_azdiad['Cluster'] ,clusters_azdiad['Relation'],label='Azdiad General Population',align='center',width=width)\n",
    "plt.bar(clusters_customers['Cluster'] + width,clusters_customers['Relation'],label='Arvato customers',align='center',width=width)\n",
    "\n",
    "plt.xlabel('Cluster Number')\n",
    "plt.ylabel('Percent of people in cluster')\n",
    "plt.title('Here goes title of the plot')\n",
    "\n",
    "# Finding the best position for legends and putting it\n",
    "plt.legend(loc='best')\n",
    "plt.show()\n",
    "\n"
   ]
  },
  {
   "cell_type": "markdown",
   "metadata": {},
   "source": [
    "The general population and customers of Arvato differ mainly in "
   ]
  },
  {
   "cell_type": "code",
   "execution_count": 282,
   "metadata": {},
   "outputs": [
    {
     "data": {
      "text/html": [
       "<div>\n",
       "<style scoped>\n",
       "    .dataframe tbody tr th:only-of-type {\n",
       "        vertical-align: middle;\n",
       "    }\n",
       "\n",
       "    .dataframe tbody tr th {\n",
       "        vertical-align: top;\n",
       "    }\n",
       "\n",
       "    .dataframe thead th {\n",
       "        text-align: right;\n",
       "    }\n",
       "</style>\n",
       "<table border=\"1\" class=\"dataframe\">\n",
       "  <thead>\n",
       "    <tr style=\"text-align: right;\">\n",
       "      <th>Cluster</th>\n",
       "      <th>0</th>\n",
       "      <th>1</th>\n",
       "      <th>2</th>\n",
       "      <th>3</th>\n",
       "      <th>4</th>\n",
       "      <th>5</th>\n",
       "      <th>6</th>\n",
       "    </tr>\n",
       "    <tr>\n",
       "      <th>Attribute</th>\n",
       "      <th></th>\n",
       "      <th></th>\n",
       "      <th></th>\n",
       "      <th></th>\n",
       "      <th></th>\n",
       "      <th></th>\n",
       "      <th></th>\n",
       "    </tr>\n",
       "  </thead>\n",
       "  <tbody>\n",
       "    <tr>\n",
       "      <th>ALTERSKATEGORIE_GROB</th>\n",
       "      <td>0.15</td>\n",
       "      <td>0.11</td>\n",
       "      <td>-0.40</td>\n",
       "      <td>0.12</td>\n",
       "      <td>-0.07</td>\n",
       "      <td>0.15</td>\n",
       "      <td>-0.17</td>\n",
       "    </tr>\n",
       "    <tr>\n",
       "      <th>CAMEO_INTL_Economic_1.0</th>\n",
       "      <td>0.27</td>\n",
       "      <td>0.18</td>\n",
       "      <td>0.00</td>\n",
       "      <td>0.02</td>\n",
       "      <td>0.06</td>\n",
       "      <td>0.28</td>\n",
       "      <td>-0.00</td>\n",
       "    </tr>\n",
       "    <tr>\n",
       "      <th>CAMEO_INTL_Economic_2.0</th>\n",
       "      <td>0.45</td>\n",
       "      <td>0.37</td>\n",
       "      <td>0.00</td>\n",
       "      <td>0.04</td>\n",
       "      <td>0.19</td>\n",
       "      <td>0.21</td>\n",
       "      <td>0.01</td>\n",
       "    </tr>\n",
       "    <tr>\n",
       "      <th>CAMEO_INTL_Economic_3.0</th>\n",
       "      <td>0.09</td>\n",
       "      <td>0.07</td>\n",
       "      <td>0.00</td>\n",
       "      <td>0.05</td>\n",
       "      <td>0.07</td>\n",
       "      <td>0.14</td>\n",
       "      <td>0.08</td>\n",
       "    </tr>\n",
       "    <tr>\n",
       "      <th>CAMEO_INTL_Economic_4.0</th>\n",
       "      <td>0.14</td>\n",
       "      <td>0.27</td>\n",
       "      <td>0.00</td>\n",
       "      <td>0.24</td>\n",
       "      <td>0.30</td>\n",
       "      <td>0.25</td>\n",
       "      <td>0.25</td>\n",
       "    </tr>\n",
       "    <tr>\n",
       "      <th>CAMEO_INTL_Economic_5.0</th>\n",
       "      <td>0.04</td>\n",
       "      <td>0.09</td>\n",
       "      <td>-0.01</td>\n",
       "      <td>0.65</td>\n",
       "      <td>0.30</td>\n",
       "      <td>0.11</td>\n",
       "      <td>0.66</td>\n",
       "    </tr>\n",
       "    <tr>\n",
       "      <th>CAMEO_INTL_Economic_99.0</th>\n",
       "      <td>0.01</td>\n",
       "      <td>0.02</td>\n",
       "      <td>1.00</td>\n",
       "      <td>0.01</td>\n",
       "      <td>0.08</td>\n",
       "      <td>0.01</td>\n",
       "      <td>0.00</td>\n",
       "    </tr>\n",
       "  </tbody>\n",
       "</table>\n",
       "</div>"
      ],
      "text/plain": [
       "Cluster                      0     1     2     3     4     5     6\n",
       "Attribute                                                         \n",
       "ALTERSKATEGORIE_GROB      0.15  0.11 -0.40  0.12 -0.07  0.15 -0.17\n",
       "CAMEO_INTL_Economic_1.0   0.27  0.18  0.00  0.02  0.06  0.28 -0.00\n",
       "CAMEO_INTL_Economic_2.0   0.45  0.37  0.00  0.04  0.19  0.21  0.01\n",
       "CAMEO_INTL_Economic_3.0   0.09  0.07  0.00  0.05  0.07  0.14  0.08\n",
       "CAMEO_INTL_Economic_4.0   0.14  0.27  0.00  0.24  0.30  0.25  0.25\n",
       "CAMEO_INTL_Economic_5.0   0.04  0.09 -0.01  0.65  0.30  0.11  0.66\n",
       "CAMEO_INTL_Economic_99.0  0.01  0.02  1.00  0.01  0.08  0.01  0.00"
      ]
     },
     "execution_count": 282,
     "metadata": {},
     "output_type": "execute_result"
    }
   ],
   "source": [
    "cl_comp_df[cl_comp_df.index.str.contains('|'.join(['ALTERSK','CAMEO_INTL_Economic']))]"
   ]
  },
  {
   "cell_type": "code",
   "execution_count": 279,
   "metadata": {},
   "outputs": [
    {
     "data": {
      "text/plain": [
       "array(['AKT_DAT_KL_1.0', 'AKT_DAT_KL_2.0', 'AKT_DAT_KL_3.0',\n",
       "       'AKT_DAT_KL_4.0', 'AKT_DAT_KL_5.0', 'AKT_DAT_KL_6.0',\n",
       "       'AKT_DAT_KL_7.0', 'AKT_DAT_KL_8.0', 'AKT_DAT_KL_9.0',\n",
       "       'AKT_DAT_KL_99.0', 'ALTERSKATEGORIE_GROB', 'ANREDE_KZ',\n",
       "       'ANZ_HAUSHALTE_AKTIV', 'ANZ_HH_TITEL', 'ANZ_KINDER',\n",
       "       'ANZ_PERSONEN', 'ANZ_STATISTISCHE_HAUSHALTE', 'ANZ_TITEL',\n",
       "       'ARBEIT', 'BALLRAUM', 'CAMEO_DEUG_2015_1.0', 'CAMEO_DEUG_2015_2.0',\n",
       "       'CAMEO_DEUG_2015_3.0', 'CAMEO_DEUG_2015_4.0',\n",
       "       'CAMEO_DEUG_2015_5.0', 'CAMEO_DEUG_2015_6.0',\n",
       "       'CAMEO_DEUG_2015_7.0', 'CAMEO_DEUG_2015_8.0',\n",
       "       'CAMEO_DEUG_2015_9.0', 'CAMEO_DEUG_2015_99.0',\n",
       "       'CAMEO_INTL_Economic_1.0', 'CAMEO_INTL_Economic_2.0',\n",
       "       'CAMEO_INTL_Economic_3.0', 'CAMEO_INTL_Economic_4.0',\n",
       "       'CAMEO_INTL_Economic_5.0', 'CAMEO_INTL_Economic_99.0',\n",
       "       'CAMEO_INTL_Family_1.0', 'CAMEO_INTL_Family_2.0',\n",
       "       'CAMEO_INTL_Family_3.0', 'CAMEO_INTL_Family_4.0',\n",
       "       'CAMEO_INTL_Family_5.0', 'CAMEO_INTL_Family_99.0',\n",
       "       'CJT_GESAMTTYP_1.0', 'CJT_GESAMTTYP_2.0', 'CJT_GESAMTTYP_3.0',\n",
       "       'CJT_GESAMTTYP_4.0', 'CJT_GESAMTTYP_5.0', 'CJT_GESAMTTYP_6.0',\n",
       "       'CJT_GESAMTTYP_99.0', 'CJT_KATALOGNUTZER_1.0',\n",
       "       'CJT_KATALOGNUTZER_2.0', 'CJT_KATALOGNUTZER_3.0',\n",
       "       'CJT_KATALOGNUTZER_4.0', 'CJT_KATALOGNUTZER_5.0',\n",
       "       'CJT_KATALOGNUTZER_99.0', 'CJT_TYP_1_1.0', 'CJT_TYP_1_2.0',\n",
       "       'CJT_TYP_1_3.0', 'CJT_TYP_1_4.0', 'CJT_TYP_1_5.0',\n",
       "       'CJT_TYP_1_99.0', 'CJT_TYP_2_1.0', 'CJT_TYP_2_2.0',\n",
       "       'CJT_TYP_2_3.0', 'CJT_TYP_2_4.0', 'CJT_TYP_2_5.0',\n",
       "       'CJT_TYP_2_99.0', 'CJT_TYP_3_1.0', 'CJT_TYP_3_2.0',\n",
       "       'CJT_TYP_3_3.0', 'CJT_TYP_3_4.0', 'CJT_TYP_3_5.0',\n",
       "       'CJT_TYP_3_99.0', 'CJT_TYP_4_1.0', 'CJT_TYP_4_2.0',\n",
       "       'CJT_TYP_4_3.0', 'CJT_TYP_4_4.0', 'CJT_TYP_4_5.0',\n",
       "       'CJT_TYP_4_99.0', 'CJT_TYP_5_1.0', 'CJT_TYP_5_2.0',\n",
       "       'CJT_TYP_5_3.0', 'CJT_TYP_5_4.0', 'CJT_TYP_5_5.0',\n",
       "       'CJT_TYP_5_99.0', 'CJT_TYP_6_1.0', 'CJT_TYP_6_2.0',\n",
       "       'CJT_TYP_6_3.0', 'CJT_TYP_6_4.0', 'CJT_TYP_6_5.0',\n",
       "       'CJT_TYP_6_99.0', 'D19_BANKEN_DIREKT', 'D19_BANKEN_GROSS',\n",
       "       'D19_BANKEN_LOKAL', 'D19_BANKEN_REST', 'D19_BEKLEIDUNG_GEH',\n",
       "       'D19_BEKLEIDUNG_REST', 'D19_BILDUNG', 'D19_BIO_OEKO',\n",
       "       'D19_BUCH_CD', 'D19_DIGIT_SERV', 'D19_DROGERIEARTIKEL',\n",
       "       'D19_ENERGIE', 'D19_FREIZEIT', 'D19_GARTEN', 'D19_HANDWERK',\n",
       "       'D19_HAUS_DEKO', 'D19_KINDERARTIKEL', 'D19_KONSUMTYP_MAX',\n",
       "       'D19_KOSMETIK', 'D19_LEBENSMITTEL', 'D19_NAHRUNGSERGAENZUNG',\n",
       "       'D19_RATGEBER', 'D19_REISEN', 'D19_SAMMELARTIKEL', 'D19_SCHUHE',\n",
       "       'D19_SONSTIGE', 'D19_TECHNIK', 'D19_TELKO_MOBILE',\n",
       "       'D19_TELKO_REST', 'D19_TIERARTIKEL', 'D19_VERSAND_REST',\n",
       "       'D19_VERSICHERUNGEN', 'D19_VERSI_DATUM', 'D19_VERSI_OFFLINE_DATUM',\n",
       "       'D19_VERSI_ONLINE_DATUM', 'D19_VOLLSORTIMENT', 'D19_WEIN_FEINKOST',\n",
       "       'DSL_FLAG_0.0', 'DSL_FLAG_1.0', 'DSL_FLAG_99.0', 'EWDICHTE',\n",
       "       'FINANZTYP_1.0', 'FINANZTYP_2.0', 'FINANZTYP_3.0', 'FINANZTYP_4.0',\n",
       "       'FINANZTYP_5.0', 'FINANZTYP_6.0', 'FINANZTYP_99.0',\n",
       "       'FINANZ_ANLEGER_1.0', 'FINANZ_ANLEGER_2.0', 'FINANZ_ANLEGER_3.0',\n",
       "       'FINANZ_ANLEGER_4.0', 'FINANZ_ANLEGER_5.0', 'FINANZ_ANLEGER_99.0',\n",
       "       'FINANZ_HAUSBAUER_1.0', 'FINANZ_HAUSBAUER_2.0',\n",
       "       'FINANZ_HAUSBAUER_3.0', 'FINANZ_HAUSBAUER_4.0',\n",
       "       'FINANZ_HAUSBAUER_5.0', 'FINANZ_HAUSBAUER_99.0',\n",
       "       'FINANZ_MINIMALIST_1.0', 'FINANZ_MINIMALIST_2.0',\n",
       "       'FINANZ_MINIMALIST_3.0', 'FINANZ_MINIMALIST_4.0',\n",
       "       'FINANZ_MINIMALIST_5.0', 'FINANZ_MINIMALIST_99.0',\n",
       "       'FINANZ_SPARER_1.0', 'FINANZ_SPARER_2.0', 'FINANZ_SPARER_3.0',\n",
       "       'FINANZ_SPARER_4.0', 'FINANZ_SPARER_5.0', 'FINANZ_SPARER_99.0',\n",
       "       'FINANZ_UNAUFFAELLIGER_1.0', 'FINANZ_UNAUFFAELLIGER_2.0',\n",
       "       'FINANZ_UNAUFFAELLIGER_3.0', 'FINANZ_UNAUFFAELLIGER_4.0',\n",
       "       'FINANZ_UNAUFFAELLIGER_5.0', 'FINANZ_UNAUFFAELLIGER_99.0',\n",
       "       'FINANZ_VORSORGER_1.0', 'FINANZ_VORSORGER_2.0',\n",
       "       'FINANZ_VORSORGER_3.0', 'FINANZ_VORSORGER_4.0',\n",
       "       'FINANZ_VORSORGER_5.0', 'FINANZ_VORSORGER_99.0',\n",
       "       'FIRMENDICHTE_1.0', 'FIRMENDICHTE_2.0', 'FIRMENDICHTE_3.0',\n",
       "       'FIRMENDICHTE_4.0', 'FIRMENDICHTE_5.0', 'FIRMENDICHTE_99.0',\n",
       "       'GEBAEUDETYP_1.0', 'GEBAEUDETYP_2.0', 'GEBAEUDETYP_3.0',\n",
       "       'GEBAEUDETYP_4.0', 'GEBAEUDETYP_6.0', 'GEBAEUDETYP_8.0',\n",
       "       'GEBAEUDETYP_99.0', 'GEBAEUDETYP_RASTER_1.0',\n",
       "       'GEBAEUDETYP_RASTER_2.0', 'GEBAEUDETYP_RASTER_3.0',\n",
       "       'GEBAEUDETYP_RASTER_4.0', 'GEBAEUDETYP_RASTER_5.0',\n",
       "       'GEBAEUDETYP_RASTER_99.0', 'GFK_URLAUBERTYP_1.0',\n",
       "       'GFK_URLAUBERTYP_10.0', 'GFK_URLAUBERTYP_11.0',\n",
       "       'GFK_URLAUBERTYP_12.0', 'GFK_URLAUBERTYP_2.0',\n",
       "       'GFK_URLAUBERTYP_3.0', 'GFK_URLAUBERTYP_4.0',\n",
       "       'GFK_URLAUBERTYP_5.0', 'GFK_URLAUBERTYP_6.0',\n",
       "       'GFK_URLAUBERTYP_7.0', 'GFK_URLAUBERTYP_8.0',\n",
       "       'GFK_URLAUBERTYP_9.0', 'GFK_URLAUBERTYP_99.0', 'GREEN_AVANTGARDE',\n",
       "       'HEALTH_TYP_1.0', 'HEALTH_TYP_2.0', 'HEALTH_TYP_3.0',\n",
       "       'HEALTH_TYP_99.0', 'HH_DELTA_FLAG_0.0', 'HH_DELTA_FLAG_1.0',\n",
       "       'HH_DELTA_FLAG_99.0', 'HH_EINKOMMEN_SCORE', 'INNENSTADT',\n",
       "       'KBA05_ALTER1', 'KBA05_ALTER2', 'KBA05_ALTER3', 'KBA05_ALTER4',\n",
       "       'KBA05_ANHANG', 'KBA05_ANTG1', 'KBA05_ANTG2', 'KBA05_ANTG3',\n",
       "       'KBA05_ANTG4', 'KBA05_AUTOQUOT', 'KBA05_CCM1', 'KBA05_CCM2',\n",
       "       'KBA05_CCM3', 'KBA05_CCM4', 'KBA05_DIESEL', 'KBA05_FRAU',\n",
       "       'KBA05_GBZ', 'KBA05_HERST1', 'KBA05_HERST2', 'KBA05_HERST3',\n",
       "       'KBA05_HERST4', 'KBA05_HERST5', 'KBA05_HERSTTEMP',\n",
       "       'KBA05_KRSAQUOT', 'KBA05_KRSHERST1', 'KBA05_KRSHERST2',\n",
       "       'KBA05_KRSHERST3', 'KBA05_KRSKLEIN', 'KBA05_KRSOBER',\n",
       "       'KBA05_KRSVAN', 'KBA05_KRSZUL', 'KBA05_KW1', 'KBA05_KW2',\n",
       "       'KBA05_KW3', 'KBA05_MAXAH', 'KBA05_MAXBJ', 'KBA05_MAXHERST',\n",
       "       'KBA05_MAXSEG', 'KBA05_MAXVORB', 'KBA05_MOD1', 'KBA05_MOD2',\n",
       "       'KBA05_MOD3', 'KBA05_MOD4', 'KBA05_MOD8', 'KBA05_MODTEMP',\n",
       "       'KBA05_MOTOR', 'KBA05_MOTRAD', 'KBA05_SEG1', 'KBA05_SEG10',\n",
       "       'KBA05_SEG2', 'KBA05_SEG3', 'KBA05_SEG4', 'KBA05_SEG5',\n",
       "       'KBA05_SEG6', 'KBA05_SEG7', 'KBA05_SEG8', 'KBA05_SEG9',\n",
       "       'KBA05_VORB0', 'KBA05_VORB1', 'KBA05_VORB2', 'KBA05_ZUL1',\n",
       "       'KBA05_ZUL2', 'KBA05_ZUL3', 'KBA05_ZUL4', 'KBA13_ALTERHALTER_30',\n",
       "       'KBA13_ALTERHALTER_45', 'KBA13_ALTERHALTER_60',\n",
       "       'KBA13_ALTERHALTER_61', 'KBA13_ANTG1', 'KBA13_ANTG2',\n",
       "       'KBA13_ANTG3', 'KBA13_ANTG4', 'KBA13_ANZAHL_PKW', 'KBA13_AUDI',\n",
       "       'KBA13_AUTOQUOTE', 'KBA13_BAUMAX', 'KBA13_BJ_1999',\n",
       "       'KBA13_BJ_2000', 'KBA13_BJ_2004', 'KBA13_BJ_2006', 'KBA13_BJ_2008',\n",
       "       'KBA13_BJ_2009', 'KBA13_BMW', 'KBA13_CCM_0_1400', 'KBA13_CCM_1000',\n",
       "       'KBA13_CCM_1200', 'KBA13_CCM_1400', 'KBA13_CCM_1401_2500',\n",
       "       'KBA13_CCM_1500', 'KBA13_CCM_1600', 'KBA13_CCM_1800',\n",
       "       'KBA13_CCM_2000', 'KBA13_CCM_2500', 'KBA13_CCM_2501',\n",
       "       'KBA13_CCM_3000', 'KBA13_CCM_3001', 'KBA13_FAB_ASIEN',\n",
       "       'KBA13_FAB_SONSTIGE', 'KBA13_FIAT', 'KBA13_FORD', 'KBA13_GBZ',\n",
       "       'KBA13_HALTER_20', 'KBA13_HALTER_25', 'KBA13_HALTER_30',\n",
       "       'KBA13_HALTER_35', 'KBA13_HALTER_40', 'KBA13_HALTER_45',\n",
       "       'KBA13_HALTER_50', 'KBA13_HALTER_55', 'KBA13_HALTER_60',\n",
       "       'KBA13_HALTER_65', 'KBA13_HALTER_66', 'KBA13_HERST_ASIEN',\n",
       "       'KBA13_HERST_AUDI_VW', 'KBA13_HERST_BMW_BENZ',\n",
       "       'KBA13_HERST_EUROPA', 'KBA13_HERST_FORD_OPEL', 'KBA13_HERST_SONST',\n",
       "       'KBA13_HHZ', 'KBA13_KMH_0_140', 'KBA13_KMH_110', 'KBA13_KMH_140',\n",
       "       'KBA13_KMH_140_210', 'KBA13_KMH_180', 'KBA13_KMH_210',\n",
       "       'KBA13_KMH_211', 'KBA13_KMH_250', 'KBA13_KMH_251',\n",
       "       'KBA13_KRSAQUOT', 'KBA13_KRSHERST_AUDI_VW',\n",
       "       'KBA13_KRSHERST_BMW_BENZ', 'KBA13_KRSHERST_FORD_OPEL',\n",
       "       'KBA13_KRSSEG_KLEIN', 'KBA13_KRSSEG_OBER', 'KBA13_KRSSEG_VAN',\n",
       "       'KBA13_KRSZUL_NEU', 'KBA13_KW_0_60', 'KBA13_KW_110',\n",
       "       'KBA13_KW_120', 'KBA13_KW_121', 'KBA13_KW_30', 'KBA13_KW_40',\n",
       "       'KBA13_KW_50', 'KBA13_KW_60', 'KBA13_KW_61_120', 'KBA13_KW_70',\n",
       "       'KBA13_KW_80', 'KBA13_KW_90', 'KBA13_MAZDA', 'KBA13_MERCEDES',\n",
       "       'KBA13_MOTOR', 'KBA13_NISSAN', 'KBA13_OPEL', 'KBA13_PEUGEOT',\n",
       "       'KBA13_RENAULT', 'KBA13_SEG_GELAENDEWAGEN',\n",
       "       'KBA13_SEG_GROSSRAUMVANS', 'KBA13_SEG_KLEINST',\n",
       "       'KBA13_SEG_KLEINWAGEN', 'KBA13_SEG_KOMPAKTKLASSE',\n",
       "       'KBA13_SEG_MINIVANS', 'KBA13_SEG_MINIWAGEN',\n",
       "       'KBA13_SEG_MITTELKLASSE', 'KBA13_SEG_OBEREMITTELKLASSE',\n",
       "       'KBA13_SEG_OBERKLASSE', 'KBA13_SEG_SONSTIGE',\n",
       "       'KBA13_SEG_SPORTWAGEN', 'KBA13_SEG_UTILITIES', 'KBA13_SEG_VAN',\n",
       "       'KBA13_SEG_WOHNMOBILE', 'KBA13_SITZE_4', 'KBA13_SITZE_5',\n",
       "       'KBA13_SITZE_6', 'KBA13_TOYOTA', 'KBA13_VORB_0', 'KBA13_VORB_1',\n",
       "       'KBA13_VORB_1_2', 'KBA13_VORB_2', 'KBA13_VORB_3', 'KBA13_VW',\n",
       "       'KKK', 'KOMBIALTER', 'KONSUMNAEHE', 'KONSUMZELLE_0.0',\n",
       "       'KONSUMZELLE_1.0', 'KONSUMZELLE_99.0', 'LP_FAMILIE_FEIN_0.0',\n",
       "       'LP_FAMILIE_FEIN_1.0', 'LP_FAMILIE_FEIN_10.0',\n",
       "       'LP_FAMILIE_FEIN_11.0', 'LP_FAMILIE_FEIN_2.0',\n",
       "       'LP_FAMILIE_FEIN_3.0', 'LP_FAMILIE_FEIN_4.0',\n",
       "       'LP_FAMILIE_FEIN_5.0', 'LP_FAMILIE_FEIN_6.0',\n",
       "       'LP_FAMILIE_FEIN_7.0', 'LP_FAMILIE_FEIN_8.0',\n",
       "       'LP_FAMILIE_FEIN_9.0', 'LP_FAMILIE_FEIN_99.0',\n",
       "       'LP_FAMILIE_GROB_0.0', 'LP_FAMILIE_GROB_1.0',\n",
       "       'LP_FAMILIE_GROB_2.0', 'LP_FAMILIE_GROB_3.0',\n",
       "       'LP_FAMILIE_GROB_4.0', 'LP_FAMILIE_GROB_5.0',\n",
       "       'LP_FAMILIE_GROB_99.0', 'LP_LEBENSPHASE_GROB_0.0',\n",
       "       'LP_LEBENSPHASE_GROB_1.0', 'LP_LEBENSPHASE_GROB_10.0',\n",
       "       'LP_LEBENSPHASE_GROB_11.0', 'LP_LEBENSPHASE_GROB_12.0',\n",
       "       'LP_LEBENSPHASE_GROB_2.0', 'LP_LEBENSPHASE_GROB_3.0',\n",
       "       'LP_LEBENSPHASE_GROB_4.0', 'LP_LEBENSPHASE_GROB_5.0',\n",
       "       'LP_LEBENSPHASE_GROB_6.0', 'LP_LEBENSPHASE_GROB_7.0',\n",
       "       'LP_LEBENSPHASE_GROB_8.0', 'LP_LEBENSPHASE_GROB_9.0',\n",
       "       'LP_LEBENSPHASE_GROB_99.0', 'LP_STATUS_FEIN_1.0',\n",
       "       'LP_STATUS_FEIN_10.0', 'LP_STATUS_FEIN_2.0', 'LP_STATUS_FEIN_3.0',\n",
       "       'LP_STATUS_FEIN_4.0', 'LP_STATUS_FEIN_5.0', 'LP_STATUS_FEIN_6.0',\n",
       "       'LP_STATUS_FEIN_7.0', 'LP_STATUS_FEIN_8.0', 'LP_STATUS_FEIN_9.0',\n",
       "       'LP_STATUS_FEIN_99.0', 'LP_STATUS_GROB_1.0', 'LP_STATUS_GROB_2.0',\n",
       "       'LP_STATUS_GROB_3.0', 'LP_STATUS_GROB_4.0', 'LP_STATUS_GROB_5.0',\n",
       "       'LP_STATUS_GROB_99.0', 'MOBI_RASTER_1.0', 'MOBI_RASTER_2.0',\n",
       "       'MOBI_RASTER_3.0', 'MOBI_RASTER_4.0', 'MOBI_RASTER_5.0',\n",
       "       'MOBI_RASTER_6.0', 'MOBI_RASTER_99.0', 'MOBI_REGIO',\n",
       "       'NATIONALITAET_KZ', 'ONLINE_AFFINITAET_0.0',\n",
       "       'ONLINE_AFFINITAET_1.0', 'ONLINE_AFFINITAET_2.0',\n",
       "       'ONLINE_AFFINITAET_3.0', 'ONLINE_AFFINITAET_4.0',\n",
       "       'ONLINE_AFFINITAET_5.0', 'ONLINE_AFFINITAET_99.0', 'ORTSGR_KLS9',\n",
       "       'OST_WEST_KZ', 'PLZ8_ANTG1', 'PLZ8_ANTG2', 'PLZ8_ANTG3',\n",
       "       'PLZ8_ANTG4', 'PLZ8_BAUMAX', 'PLZ8_GBZ', 'PLZ8_HHZ',\n",
       "       'PRAEGENDE_JUGENDJAHRE_MAINSTREAM_0.0',\n",
       "       'PRAEGENDE_JUGENDJAHRE_MAINSTREAM_1.0',\n",
       "       'PRAEGENDE_JUGENDJAHRE_MAINSTREAM_99.0',\n",
       "       'PRAEGENDE_JUGENDJAHRE_YEARS_1.0',\n",
       "       'PRAEGENDE_JUGENDJAHRE_YEARS_2.0',\n",
       "       'PRAEGENDE_JUGENDJAHRE_YEARS_3.0',\n",
       "       'PRAEGENDE_JUGENDJAHRE_YEARS_4.0',\n",
       "       'PRAEGENDE_JUGENDJAHRE_YEARS_5.0',\n",
       "       'PRAEGENDE_JUGENDJAHRE_YEARS_6.0',\n",
       "       'PRAEGENDE_JUGENDJAHRE_YEARS_99.0', 'REGIOTYP_1.0', 'REGIOTYP_2.0',\n",
       "       'REGIOTYP_3.0', 'REGIOTYP_4.0', 'REGIOTYP_5.0', 'REGIOTYP_6.0',\n",
       "       'REGIOTYP_7.0', 'REGIOTYP_99.0', 'RELAT_AB', 'RETOURTYP_BK_S',\n",
       "       'RT_KEIN_ANREIZ_1.0', 'RT_KEIN_ANREIZ_2.0', 'RT_KEIN_ANREIZ_3.0',\n",
       "       'RT_KEIN_ANREIZ_4.0', 'RT_KEIN_ANREIZ_5.0', 'RT_KEIN_ANREIZ_99.0',\n",
       "       'RT_SCHNAEPPCHEN_1.0', 'RT_SCHNAEPPCHEN_2.0',\n",
       "       'RT_SCHNAEPPCHEN_3.0', 'RT_SCHNAEPPCHEN_4.0',\n",
       "       'RT_SCHNAEPPCHEN_5.0', 'RT_SCHNAEPPCHEN_99.0',\n",
       "       'RT_UEBERGROESSE_0.0', 'RT_UEBERGROESSE_1.0',\n",
       "       'RT_UEBERGROESSE_2.0', 'RT_UEBERGROESSE_3.0',\n",
       "       'RT_UEBERGROESSE_4.0', 'RT_UEBERGROESSE_5.0',\n",
       "       'RT_UEBERGROESSE_99.0', 'SEMIO_DOM', 'SEMIO_ERL', 'SEMIO_FAM',\n",
       "       'SEMIO_KAEM', 'SEMIO_KRIT', 'SEMIO_KULT', 'SEMIO_LUST',\n",
       "       'SEMIO_MAT', 'SEMIO_PFLICHT', 'SEMIO_RAT', 'SEMIO_REL',\n",
       "       'SEMIO_SOZ', 'SEMIO_TRADV', 'SEMIO_VERT', 'SHOPPER_TYP_0.0',\n",
       "       'SHOPPER_TYP_1.0', 'SHOPPER_TYP_2.0', 'SHOPPER_TYP_3.0',\n",
       "       'SHOPPER_TYP_99.0', 'SOHO_KZ_0.0', 'SOHO_KZ_1.0', 'SOHO_KZ_99.0',\n",
       "       'STRUKTURTYP_1.0', 'STRUKTURTYP_2.0', 'STRUKTURTYP_3.0',\n",
       "       'STRUKTURTYP_99.0', 'UMFELD_ALT_1.0', 'UMFELD_ALT_2.0',\n",
       "       'UMFELD_ALT_3.0', 'UMFELD_ALT_4.0', 'UMFELD_ALT_5.0',\n",
       "       'UMFELD_ALT_99.0', 'UMFELD_JUNG_1.0', 'UMFELD_JUNG_2.0',\n",
       "       'UMFELD_JUNG_3.0', 'UMFELD_JUNG_4.0', 'UMFELD_JUNG_5.0',\n",
       "       'UMFELD_JUNG_99.0', 'UNGLEICHENN_FLAG_0.0', 'UNGLEICHENN_FLAG_1.0',\n",
       "       'UNGLEICHENN_FLAG_99.0', 'VERS_TYP', 'VHA_0.0', 'VHA_1.0',\n",
       "       'VHA_2.0', 'VHA_3.0', 'VHA_4.0', 'VHA_5.0', 'VHA_99.0', 'VHN_0.0',\n",
       "       'VHN_1.0', 'VHN_2.0', 'VHN_3.0', 'VHN_4.0', 'VHN_99.0',\n",
       "       'VK_DHT4A_1.0', 'VK_DHT4A_10.0', 'VK_DHT4A_11.0', 'VK_DHT4A_2.0',\n",
       "       'VK_DHT4A_3.0', 'VK_DHT4A_4.0', 'VK_DHT4A_5.0', 'VK_DHT4A_6.0',\n",
       "       'VK_DHT4A_7.0', 'VK_DHT4A_8.0', 'VK_DHT4A_9.0', 'VK_DHT4A_99.0',\n",
       "       'VK_DISTANZ', 'VK_ZG11_1.0', 'VK_ZG11_10.0', 'VK_ZG11_11.0',\n",
       "       'VK_ZG11_2.0', 'VK_ZG11_3.0', 'VK_ZG11_4.0', 'VK_ZG11_5.0',\n",
       "       'VK_ZG11_6.0', 'VK_ZG11_7.0', 'VK_ZG11_8.0', 'VK_ZG11_9.0',\n",
       "       'VK_ZG11_99.0', 'WOHNDAUER_2008', 'WOHNLAGE', 'W_KEIT_KIND_HH_1.0',\n",
       "       'W_KEIT_KIND_HH_2.0', 'W_KEIT_KIND_HH_3.0', 'W_KEIT_KIND_HH_4.0',\n",
       "       'W_KEIT_KIND_HH_5.0', 'W_KEIT_KIND_HH_6.0', 'W_KEIT_KIND_HH_99.0',\n",
       "       'ZABEOTYP_1.0', 'ZABEOTYP_2.0', 'ZABEOTYP_3.0', 'ZABEOTYP_4.0',\n",
       "       'ZABEOTYP_5.0', 'ZABEOTYP_6.0', 'ZABEOTYP_99.0'], dtype=object)"
      ]
     },
     "execution_count": 279,
     "metadata": {},
     "output_type": "execute_result"
    }
   ],
   "source": [
    "cl_comp_df.index.values"
   ]
  },
  {
   "cell_type": "code",
   "execution_count": null,
   "metadata": {},
   "outputs": [],
   "source": []
  }
 ],
 "metadata": {
  "kernelspec": {
   "display_name": "Python 3",
   "language": "python",
   "name": "python3"
  },
  "language_info": {
   "codemirror_mode": {
    "name": "ipython",
    "version": 3
   },
   "file_extension": ".py",
   "mimetype": "text/x-python",
   "name": "python",
   "nbconvert_exporter": "python",
   "pygments_lexer": "ipython3",
   "version": "3.6.5"
  }
 },
 "nbformat": 4,
 "nbformat_minor": 2
}
