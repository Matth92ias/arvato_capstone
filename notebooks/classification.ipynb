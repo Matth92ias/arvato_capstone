{
 "cells": [
  {
   "cell_type": "code",
   "execution_count": 2,
   "id": "2aaead37",
   "metadata": {},
   "outputs": [],
   "source": [
    "# system libraries and path\n",
    "import os\n",
    "import sys\n",
    "import re\n",
    "import joblib\n",
    "\n",
    "\n",
    "src_dir = os.path.join(os.getcwd(), '..', 'src')\n",
    "sys.path.append(src_dir)\n",
    "data_dir = os.path.join(os.getcwd(), '..', 'data')\n",
    "\n",
    "# import libraries here; add more as necessary\n",
    "import numpy as np\n",
    "import pandas as pd\n",
    "\n",
    "# pipeline / wrappers\n",
    "from sklearn.pipeline import Pipeline\n",
    "from sklearn.compose import ColumnTransformer\n",
    "from utils import ClfSwitcher\n",
    "from imblearn.pipeline import make_pipeline\n",
    "\n",
    "# preoprocessing\n",
    "from sklearn.impute import SimpleImputer\n",
    "from sklearn.preprocessing import StandardScaler, OneHotEncoder\n",
    "\n",
    "# models\n",
    "from sklearn.linear_model import LogisticRegression\n",
    "from sklearn.ensemble import AdaBoostClassifier\n",
    "from sklearn.ensemble import RandomForestClassifier\n",
    "import xgboost as xgb\n",
    "import warnings\n",
    "warnings.filterwarnings(action=\"ignore\", message=r'.*Use subset.*of np.ndarray is not recommended')\n",
    "\n",
    "# cv and model selection \n",
    "from sklearn.model_selection import train_test_split\n",
    "from sklearn.model_selection import GridSearchCV\n",
    "from sklearn.model_selection import RandomizedSearchCV\n",
    "from sklearn.model_selection import StratifiedKFold\n",
    "from sklearn.model_selection import cross_validate\n",
    "from imblearn.over_sampling import RandomOverSampler \n",
    "from sklearn.metrics import roc_auc_score\n",
    "\n",
    "\n",
    "# plotting\n",
    "import matplotlib.pyplot as plt\n",
    "# magic word for producing visualizations in notebook\n",
    "%matplotlib inline\n",
    "\n",
    "# custom modules\n",
    "from import_module import import_raw_data\n",
    "import etl\n",
    "import pipe\n"
   ]
  },
  {
   "cell_type": "markdown",
   "id": "595a4fe4",
   "metadata": {},
   "source": [
    "Strategy:\n",
    "\n",
    "- Try different models \n",
    "- change preperation (encoding)\n",
    "- optimize hyperparameters\n",
    "- add more data"
   ]
  },
  {
   "cell_type": "markdown",
   "id": "7cf14872",
   "metadata": {},
   "source": [
    "Import data "
   ]
  },
  {
   "cell_type": "code",
   "execution_count": 6,
   "id": "42943366",
   "metadata": {},
   "outputs": [
    {
     "name": "stderr",
     "output_type": "stream",
     "text": [
      "/var/folders/s2/ybtczy7s68qcb8mdvszb6zmm0000gn/T/ipykernel_3153/1309230947.py:1: FutureWarning: The error_bad_lines argument has been deprecated and will be removed in a future version.\n",
      "\n",
      "\n",
      "  mailout_train = import_raw_data('Udacity_MAILOUT_052018_TRAIN.csv',data_dir)\n"
     ]
    },
    {
     "data": {
      "text/html": [
       "<div>\n",
       "<style scoped>\n",
       "    .dataframe tbody tr th:only-of-type {\n",
       "        vertical-align: middle;\n",
       "    }\n",
       "\n",
       "    .dataframe tbody tr th {\n",
       "        vertical-align: top;\n",
       "    }\n",
       "\n",
       "    .dataframe thead th {\n",
       "        text-align: right;\n",
       "    }\n",
       "</style>\n",
       "<table border=\"1\" class=\"dataframe\">\n",
       "  <thead>\n",
       "    <tr style=\"text-align: right;\">\n",
       "      <th></th>\n",
       "      <th>LNR</th>\n",
       "      <th>AGER_TYP</th>\n",
       "      <th>AKT_DAT_KL</th>\n",
       "      <th>ALTER_HH</th>\n",
       "      <th>ALTER_KIND1</th>\n",
       "      <th>ALTER_KIND2</th>\n",
       "      <th>ALTER_KIND3</th>\n",
       "      <th>ALTER_KIND4</th>\n",
       "      <th>ALTERSKATEGORIE_FEIN</th>\n",
       "      <th>ANZ_HAUSHALTE_AKTIV</th>\n",
       "      <th>...</th>\n",
       "      <th>VK_DHT4A</th>\n",
       "      <th>VK_DISTANZ</th>\n",
       "      <th>VK_ZG11</th>\n",
       "      <th>W_KEIT_KIND_HH</th>\n",
       "      <th>WOHNDAUER_2008</th>\n",
       "      <th>WOHNLAGE</th>\n",
       "      <th>ZABEOTYP</th>\n",
       "      <th>RESPONSE</th>\n",
       "      <th>ANREDE_KZ</th>\n",
       "      <th>ALTERSKATEGORIE_GROB</th>\n",
       "    </tr>\n",
       "  </thead>\n",
       "  <tbody>\n",
       "    <tr>\n",
       "      <th>0</th>\n",
       "      <td>1763</td>\n",
       "      <td>2</td>\n",
       "      <td>1.0</td>\n",
       "      <td>8.0</td>\n",
       "      <td>NaN</td>\n",
       "      <td>NaN</td>\n",
       "      <td>NaN</td>\n",
       "      <td>NaN</td>\n",
       "      <td>8.0</td>\n",
       "      <td>15.0</td>\n",
       "      <td>...</td>\n",
       "      <td>5.0</td>\n",
       "      <td>2.0</td>\n",
       "      <td>1.0</td>\n",
       "      <td>6.0</td>\n",
       "      <td>9.0</td>\n",
       "      <td>3.0</td>\n",
       "      <td>3</td>\n",
       "      <td>0</td>\n",
       "      <td>2</td>\n",
       "      <td>4</td>\n",
       "    </tr>\n",
       "    <tr>\n",
       "      <th>1</th>\n",
       "      <td>1771</td>\n",
       "      <td>1</td>\n",
       "      <td>4.0</td>\n",
       "      <td>13.0</td>\n",
       "      <td>NaN</td>\n",
       "      <td>NaN</td>\n",
       "      <td>NaN</td>\n",
       "      <td>NaN</td>\n",
       "      <td>13.0</td>\n",
       "      <td>1.0</td>\n",
       "      <td>...</td>\n",
       "      <td>1.0</td>\n",
       "      <td>2.0</td>\n",
       "      <td>1.0</td>\n",
       "      <td>4.0</td>\n",
       "      <td>9.0</td>\n",
       "      <td>7.0</td>\n",
       "      <td>1</td>\n",
       "      <td>0</td>\n",
       "      <td>2</td>\n",
       "      <td>3</td>\n",
       "    </tr>\n",
       "    <tr>\n",
       "      <th>2</th>\n",
       "      <td>1776</td>\n",
       "      <td>1</td>\n",
       "      <td>1.0</td>\n",
       "      <td>9.0</td>\n",
       "      <td>NaN</td>\n",
       "      <td>NaN</td>\n",
       "      <td>NaN</td>\n",
       "      <td>NaN</td>\n",
       "      <td>7.0</td>\n",
       "      <td>0.0</td>\n",
       "      <td>...</td>\n",
       "      <td>6.0</td>\n",
       "      <td>4.0</td>\n",
       "      <td>2.0</td>\n",
       "      <td>NaN</td>\n",
       "      <td>9.0</td>\n",
       "      <td>2.0</td>\n",
       "      <td>3</td>\n",
       "      <td>0</td>\n",
       "      <td>1</td>\n",
       "      <td>4</td>\n",
       "    </tr>\n",
       "    <tr>\n",
       "      <th>3</th>\n",
       "      <td>1460</td>\n",
       "      <td>2</td>\n",
       "      <td>1.0</td>\n",
       "      <td>6.0</td>\n",
       "      <td>NaN</td>\n",
       "      <td>NaN</td>\n",
       "      <td>NaN</td>\n",
       "      <td>NaN</td>\n",
       "      <td>6.0</td>\n",
       "      <td>4.0</td>\n",
       "      <td>...</td>\n",
       "      <td>8.0</td>\n",
       "      <td>11.0</td>\n",
       "      <td>11.0</td>\n",
       "      <td>6.0</td>\n",
       "      <td>9.0</td>\n",
       "      <td>1.0</td>\n",
       "      <td>3</td>\n",
       "      <td>0</td>\n",
       "      <td>2</td>\n",
       "      <td>4</td>\n",
       "    </tr>\n",
       "    <tr>\n",
       "      <th>4</th>\n",
       "      <td>1783</td>\n",
       "      <td>2</td>\n",
       "      <td>1.0</td>\n",
       "      <td>9.0</td>\n",
       "      <td>NaN</td>\n",
       "      <td>NaN</td>\n",
       "      <td>NaN</td>\n",
       "      <td>NaN</td>\n",
       "      <td>9.0</td>\n",
       "      <td>53.0</td>\n",
       "      <td>...</td>\n",
       "      <td>2.0</td>\n",
       "      <td>2.0</td>\n",
       "      <td>1.0</td>\n",
       "      <td>6.0</td>\n",
       "      <td>9.0</td>\n",
       "      <td>3.0</td>\n",
       "      <td>3</td>\n",
       "      <td>0</td>\n",
       "      <td>1</td>\n",
       "      <td>3</td>\n",
       "    </tr>\n",
       "  </tbody>\n",
       "</table>\n",
       "<p>5 rows × 367 columns</p>\n",
       "</div>"
      ],
      "text/plain": [
       "    LNR  AGER_TYP  AKT_DAT_KL  ALTER_HH  ALTER_KIND1  ALTER_KIND2  \\\n",
       "0  1763         2         1.0       8.0          NaN          NaN   \n",
       "1  1771         1         4.0      13.0          NaN          NaN   \n",
       "2  1776         1         1.0       9.0          NaN          NaN   \n",
       "3  1460         2         1.0       6.0          NaN          NaN   \n",
       "4  1783         2         1.0       9.0          NaN          NaN   \n",
       "\n",
       "   ALTER_KIND3  ALTER_KIND4  ALTERSKATEGORIE_FEIN  ANZ_HAUSHALTE_AKTIV  ...  \\\n",
       "0          NaN          NaN                   8.0                 15.0  ...   \n",
       "1          NaN          NaN                  13.0                  1.0  ...   \n",
       "2          NaN          NaN                   7.0                  0.0  ...   \n",
       "3          NaN          NaN                   6.0                  4.0  ...   \n",
       "4          NaN          NaN                   9.0                 53.0  ...   \n",
       "\n",
       "   VK_DHT4A  VK_DISTANZ  VK_ZG11  W_KEIT_KIND_HH  WOHNDAUER_2008  WOHNLAGE  \\\n",
       "0       5.0         2.0      1.0             6.0             9.0       3.0   \n",
       "1       1.0         2.0      1.0             4.0             9.0       7.0   \n",
       "2       6.0         4.0      2.0             NaN             9.0       2.0   \n",
       "3       8.0        11.0     11.0             6.0             9.0       1.0   \n",
       "4       2.0         2.0      1.0             6.0             9.0       3.0   \n",
       "\n",
       "   ZABEOTYP RESPONSE  ANREDE_KZ  ALTERSKATEGORIE_GROB  \n",
       "0         3        0          2                     4  \n",
       "1         1        0          2                     3  \n",
       "2         3        0          1                     4  \n",
       "3         3        0          2                     4  \n",
       "4         3        0          1                     3  \n",
       "\n",
       "[5 rows x 367 columns]"
      ]
     },
     "execution_count": 6,
     "metadata": {},
     "output_type": "execute_result"
    }
   ],
   "source": [
    "mailout_train = import_raw_data('Udacity_MAILOUT_052018_TRAIN.csv',data_dir)\n",
    "mailout_train.head()\n"
   ]
  },
  {
   "cell_type": "markdown",
   "id": "8771ed70",
   "metadata": {},
   "source": [
    "In total the training data has 42962 rows and 367 columns before cleaning"
   ]
  },
  {
   "cell_type": "code",
   "execution_count": 7,
   "id": "561793ce",
   "metadata": {},
   "outputs": [
    {
     "data": {
      "text/plain": [
       "(42962, 367)"
      ]
     },
     "execution_count": 7,
     "metadata": {},
     "output_type": "execute_result"
    }
   ],
   "source": [
    "mailout_train.shape "
   ]
  },
  {
   "cell_type": "code",
   "execution_count": 8,
   "id": "dc611b96",
   "metadata": {},
   "outputs": [
    {
     "name": "stdout",
     "output_type": "stream",
     "text": [
      "The data dictionary is imported.\n",
      "The data dictionary is used to map the missing values.\n",
      "Attribute PRAEGENDE_JUGENDJAHRE_MAINSTREAM is not available in DataFrame.\n",
      "Attribute PRAEGENDE_JUGENDJAHRE_YEARS is not available in DataFrame.\n",
      "Attribute CAMEO_INTL_Economic is not available in DataFrame.\n",
      "Attribute CAMEO_INTL_Family is not available in DataFrame.\n",
      "The functions engineer_cameo_intl and engineer_praegende_jj are used to engineer additional variables\n",
      "The following attributes are dropped because they are not in the data dictionary: []\n",
      "The following attributes are dropped because they have too many missings or too many levels: ['LNR' 'AGER_TYP' 'ALTER_HH' 'ALTER_KIND1' 'ALTER_KIND2' 'ALTER_KIND3'\n",
      " 'ALTER_KIND4' 'ALTERSKATEGORIE_FEIN' 'CAMEO_DEU_2015' 'CAMEO_INTL_2015'\n",
      " 'D19_BANKEN_ANZ_12' 'D19_BANKEN_ANZ_24' 'D19_BANKEN_DATUM'\n",
      " 'D19_BANKEN_OFFLINE_DATUM' 'D19_BANKEN_ONLINE_DATUM'\n",
      " 'D19_BANKEN_ONLINE_QUOTE_12' 'D19_GESAMT_ANZ_12' 'D19_GESAMT_ANZ_24'\n",
      " 'D19_GESAMT_DATUM' 'D19_GESAMT_OFFLINE_DATUM' 'D19_GESAMT_ONLINE_DATUM'\n",
      " 'D19_GESAMT_ONLINE_QUOTE_12' 'D19_KONSUMTYP' 'D19_LETZTER_KAUF_BRANCHE'\n",
      " 'D19_LOTTO' 'D19_SOZIALES' 'D19_TELKO_ANZ_12' 'D19_TELKO_ANZ_24'\n",
      " 'D19_TELKO_DATUM' 'D19_TELKO_OFFLINE_DATUM' 'D19_TELKO_ONLINE_DATUM'\n",
      " 'D19_TELKO_ONLINE_QUOTE_12' 'D19_VERSAND_ANZ_12' 'D19_VERSAND_ANZ_24'\n",
      " 'D19_VERSAND_DATUM' 'D19_VERSAND_OFFLINE_DATUM'\n",
      " 'D19_VERSAND_ONLINE_DATUM' 'D19_VERSAND_ONLINE_QUOTE_12'\n",
      " 'D19_VERSI_ANZ_12' 'D19_VERSI_ANZ_24' 'D19_VERSI_ONLINE_QUOTE_12'\n",
      " 'EINGEFUEGT_AM' 'EINGEZOGENAM_HH_JAHR' 'EXTSEL992' 'GEBURTSJAHR'\n",
      " 'GEMEINDETYP' 'KBA05_BAUMAX' 'KK_KUNDENTYP' 'LP_LEBENSPHASE_FEIN'\n",
      " 'MIN_GEBAEUDEJAHR' 'PRAEGENDE_JUGENDJAHRE' 'TITEL_KZ' 'VERDICHTUNGSRAUM']\n"
     ]
    }
   ],
   "source": [
    "mailout_train = etl.clean_data(mailout_train,data_dir,True)"
   ]
  },
  {
   "cell_type": "markdown",
   "id": "ee259273",
   "metadata": {},
   "source": [
    "After cleaning and dropping the data similiar to the segmentation problem there are still 318 variables left"
   ]
  },
  {
   "cell_type": "code",
   "execution_count": 9,
   "id": "57029acc",
   "metadata": {},
   "outputs": [
    {
     "data": {
      "text/plain": [
       "(42962, 318)"
      ]
     },
     "execution_count": 9,
     "metadata": {},
     "output_type": "execute_result"
    }
   ],
   "source": [
    "mailout_train.shape "
   ]
  },
  {
   "cell_type": "markdown",
   "id": "622e0e7e",
   "metadata": {},
   "source": [
    "It is a higly imbalaned dataset!"
   ]
  },
  {
   "cell_type": "code",
   "execution_count": 10,
   "id": "a63118f4",
   "metadata": {},
   "outputs": [
    {
     "data": {
      "image/png": "[encoded data removed]",
      "text/plain": [
       "<Figure size 504x360 with 1 Axes>"
      ]
     },
     "metadata": {
      "needs_background": "light"
     },
     "output_type": "display_data"
    }
   ],
   "source": [
    "plt.figure(figsize=(7, 5))\n",
    "\n",
    "response_dist = mailout_train.groupby('RESPONSE').size()\n",
    "x = response_dist.index.map({0: 'No Reponse',1:'Reponse'})\n",
    "\n",
    "plt.bar(x,response_dist)\n",
    "plt.title('Target Distribution')\n",
    "plt.ylabel('Number of Individuals')\n",
    "\n",
    "reponse_dist_path = os.path.join(data_dir,'99_plots','target_distribution.png')\n",
    "plt.savefig(reponse_dist_path,bbox_inches = 'tight')\n",
    "\n",
    "plt.show()\n",
    "\n",
    "\n"
   ]
  },
  {
   "cell_type": "markdown",
   "id": "7f326301",
   "metadata": {},
   "source": [
    "I am  going to to separate predictors and response column. Furthermore I will separate a holdout set to evaluate the model after tuning it with cross validation. The holdout set is stratified to have enough positive cases"
   ]
  },
  {
   "cell_type": "code",
   "execution_count": 13,
   "id": "56f8ec75",
   "metadata": {},
   "outputs": [],
   "source": [
    "data_dict_path = os.path.join(data_dir,'01_preprocessed/','data_dictionary_full.xlsx')\n",
    "data_dict = pd.read_excel(data_dict_path, index_col=0)\n",
    "\n",
    "#mailout_train = mailout_train.sample(frac=1).reset_index(drop=True)\n",
    "\n",
    "X = mailout_train.drop(columns= 'RESPONSE',axis=1)\n",
    "y = mailout_train[\"RESPONSE\"].values\n",
    "\n",
    "X_train, X_test, y_train, y_test = train_test_split(X, y,test_size=0.15,random_state=42,stratify=y)"
   ]
  },
  {
   "cell_type": "markdown",
   "id": "abaa2f5c",
   "metadata": {},
   "source": [
    "At first I am going to use the preprocessing pipeline I used previously in the segmentation task and test it with several boosting algorithms. These boosting algorithms (and random forest) normally perform quite well on this kind of tabular data"
   ]
  },
  {
   "cell_type": "code",
   "execution_count": 14,
   "id": "5db4c0ed",
   "metadata": {},
   "outputs": [
    {
     "name": "stdout",
     "output_type": "stream",
     "text": [
      "rf\n",
      "ada\n",
      "xgb\n"
     ]
    }
   ],
   "source": [
    "# import pipeline already used for unsupervised learning\n",
    "col_trans = pipe.define_pipeline(data_dict)\n",
    "\n",
    "# initialize variables and define algorithms which are going to be used \n",
    "dfs = []\n",
    "models = [\n",
    "      ('rf', RandomForestClassifier(random_state=42)),\n",
    "      ('ada', AdaBoostClassifier(random_state=42)),\n",
    "      ('xgb', xgb.XGBClassifier(eval_metric='logloss',use_label_encoder=False,random_state=42))\n",
    "    ]\n",
    "results = []\n",
    "names = []\n",
    "scoring = ['roc_auc']\n",
    "\n",
    "# intialize stratified kfold \n",
    "kfold = StratifiedKFold(n_splits=3, shuffle=True, random_state=42)\n",
    "\n",
    "# iterate through all models \n",
    "for name, model in models:\n",
    "\n",
    "    model_pipeline = Pipeline([\n",
    "        ('prep',col_trans),\n",
    "        ('clf',model)\n",
    "    ])\n",
    "\n",
    "    print(name)\n",
    "    cv_results = cross_validate(model_pipeline,\n",
    "                                            X_train, \n",
    "                                            y_train, \n",
    "                                            cv=kfold,\n",
    "                                            scoring=scoring,\n",
    "                                            return_train_score=True)   \n",
    "\n",
    "    # append cv results and name of iteration\n",
    "    results.append(cv_results)\n",
    "    names.append(name)\n",
    "\n",
    "    # create dataframe for this iteration\n",
    "    this_df = pd.DataFrame(cv_results)\n",
    "    this_df['model'] = name\n",
    "\n",
    "    # append data.frame of iteration\n",
    "    dfs.append(this_df)\n",
    "\n",
    "result_df = pd.concat(dfs, ignore_index=True)\n",
    "\n"
   ]
  },
  {
   "cell_type": "markdown",
   "id": "387acc8e",
   "metadata": {},
   "source": [
    "From the results you can see that the models perform quite bad! The best model has an average roc score of only 0.63. Let's remind ourselves that a random model achieves already score of 0.5! A look at Kaggle results also shows that this is quite bad! \n",
    "\n",
    "When comparing the average training validation error with the test score you can clearly see that especially Random forest and Gradient Boosting overfit the data quite strongly (The difference between mean train and mean test score is 0.99 to 0.61 for xgboost"
   ]
  },
  {
   "cell_type": "code",
   "execution_count": 17,
   "id": "ac1505de",
   "metadata": {},
   "outputs": [
    {
     "data": {
      "text/html": [
       "<div>\n",
       "<style scoped>\n",
       "    .dataframe tbody tr th:only-of-type {\n",
       "        vertical-align: middle;\n",
       "    }\n",
       "\n",
       "    .dataframe tbody tr th {\n",
       "        vertical-align: top;\n",
       "    }\n",
       "\n",
       "    .dataframe thead tr th {\n",
       "        text-align: left;\n",
       "    }\n",
       "\n",
       "    .dataframe thead tr:last-of-type th {\n",
       "        text-align: right;\n",
       "    }\n",
       "</style>\n",
       "<table border=\"1\" class=\"dataframe\">\n",
       "  <thead>\n",
       "    <tr>\n",
       "      <th></th>\n",
       "      <th colspan=\"2\" halign=\"left\">train_roc_auc</th>\n",
       "      <th colspan=\"2\" halign=\"left\">test_roc_auc</th>\n",
       "    </tr>\n",
       "    <tr>\n",
       "      <th></th>\n",
       "      <th>mean</th>\n",
       "      <th>std</th>\n",
       "      <th>mean</th>\n",
       "      <th>std</th>\n",
       "    </tr>\n",
       "    <tr>\n",
       "      <th>model</th>\n",
       "      <th></th>\n",
       "      <th></th>\n",
       "      <th></th>\n",
       "      <th></th>\n",
       "    </tr>\n",
       "  </thead>\n",
       "  <tbody>\n",
       "    <tr>\n",
       "      <th>ada</th>\n",
       "      <td>0.8148</td>\n",
       "      <td>0.0049</td>\n",
       "      <td>0.6323</td>\n",
       "      <td>0.0207</td>\n",
       "    </tr>\n",
       "    <tr>\n",
       "      <th>rf</th>\n",
       "      <td>0.9683</td>\n",
       "      <td>0.0040</td>\n",
       "      <td>0.5298</td>\n",
       "      <td>0.0297</td>\n",
       "    </tr>\n",
       "    <tr>\n",
       "      <th>xgb</th>\n",
       "      <td>0.9924</td>\n",
       "      <td>0.0009</td>\n",
       "      <td>0.6022</td>\n",
       "      <td>0.0064</td>\n",
       "    </tr>\n",
       "  </tbody>\n",
       "</table>\n",
       "</div>"
      ],
      "text/plain": [
       "      train_roc_auc         test_roc_auc        \n",
       "               mean     std         mean     std\n",
       "model                                           \n",
       "ada          0.8148  0.0049       0.6323  0.0207\n",
       "rf           0.9683  0.0040       0.5298  0.0297\n",
       "xgb          0.9924  0.0009       0.6022  0.0064"
      ]
     },
     "execution_count": 17,
     "metadata": {},
     "output_type": "execute_result"
    }
   ],
   "source": [
    "result_df.groupby('model').agg({\n",
    "    'train_roc_auc' : ['mean', 'std'],\n",
    "    'test_roc_auc' : ['mean', 'std']\n",
    "}).round(4)"
   ]
  },
  {
   "cell_type": "markdown",
   "id": "901d3c72",
   "metadata": {},
   "source": [
    "As Random Forest performs so bad, I will discard it and continue with the two boosting algorithms. To get a better understanding of what is possible I will use gridsearch to see if other hyperparameters significantly improve the result.\n",
    "The default parameters for xgboost with max_depth of 6 and a learning rate of 0.3 is quite high. I am going to use parameters which should reduce the overfitting as they make the model less complex"
   ]
  },
  {
   "cell_type": "code",
   "execution_count": 20,
   "id": "1aa21ddf",
   "metadata": {},
   "outputs": [],
   "source": [
    "ada_grid = {\n",
    "    'clf__n_estimators': [50, 100],\n",
    "    'clf__learning_rate': [0.1, 1.0],\n",
    "}\n",
    "\n",
    "xgb_grid = {\n",
    "    'clf__n_estimators': [50,100],\n",
    "    'clf__max_depth': [2,3],\n",
    "    'clf__learning_rate': [0.05,0.15],\n",
    "}\n",
    "\n",
    "\n",
    "grids =  {\n",
    "    'ada': ada_grid,\n",
    "    'xgb': xgb_grid\n",
    "}\n",
    "\n",
    "models = [\n",
    "      ('ada', AdaBoostClassifier(random_state=42)),\n",
    "      ('xgb', xgb.XGBClassifier(eval_metric='logloss',use_label_encoder=False,random_state=42))\n",
    "    ]"
   ]
  },
  {
   "cell_type": "code",
   "execution_count": 21,
   "id": "860ff2bb",
   "metadata": {},
   "outputs": [
    {
     "name": "stdout",
     "output_type": "stream",
     "text": [
      "Fitting 3 folds for each of 4 candidates, totalling 12 fits\n",
      "Fitting 3 folds for each of 8 candidates, totalling 24 fits\n"
     ]
    }
   ],
   "source": [
    "cv_grid_results = {}\n",
    "\n",
    "kfold = StratifiedKFold(n_splits=3, shuffle=True, random_state=42)\n",
    "\n",
    "# loop through models\n",
    "for name,model in models:\n",
    "    \n",
    "    # create Pipeline\n",
    "    model_pipeline = Pipeline([\n",
    "        ('prep',col_trans),\n",
    "        ('clf',model)\n",
    "    ])\n",
    "    \n",
    "    # create grid\n",
    "    grid_search = GridSearchCV(estimator=model_pipeline,\n",
    "                               param_grid=grids[name],\n",
    "                               n_jobs=-1, \n",
    "                               cv=kfold, \n",
    "                               verbose=2,\n",
    "                               return_train_score=True,\n",
    "                               scoring='roc_auc')\n",
    "    \n",
    "    # fit grid (which also makes predictions) and save results \n",
    "    grid_search.fit(X_train,y_train)\n",
    "    cv_grid_results[name] = grid_search\n",
    "\n"
   ]
  },
  {
   "cell_type": "code",
   "execution_count": 29,
   "id": "7f76edc5",
   "metadata": {},
   "outputs": [
    {
     "data": {
      "text/plain": [
       "0.6766744977605855"
      ]
     },
     "execution_count": 29,
     "metadata": {},
     "output_type": "execute_result"
    }
   ],
   "source": [
    "cv_grid_results['ada'].best_score_"
   ]
  },
  {
   "cell_type": "code",
   "execution_count": 40,
   "id": "af4b2c57",
   "metadata": {},
   "outputs": [
    {
     "data": {
      "text/plain": [
       "{'clf__learning_rate': 0.05, 'clf__max_depth': 3, 'clf__n_estimators': 100}"
      ]
     },
     "execution_count": 40,
     "metadata": {},
     "output_type": "execute_result"
    }
   ],
   "source": [
    "cv_grid_results['xgb'].best_params_"
   ]
  },
  {
   "cell_type": "code",
   "execution_count": 35,
   "id": "09cce3a7",
   "metadata": {},
   "outputs": [
    {
     "data": {
      "text/plain": [
       "{'mean_fit_time': array([ 58.61366097,  77.92566037,  58.62124165, 134.06245907,\n",
       "         42.35895594,  80.09208433,  56.11525806,  87.24271766]),\n",
       " 'std_fit_time': array([0.05991544, 6.30829069, 6.77638925, 0.73003275, 8.27074034,\n",
       "        1.05330959, 5.28501363, 8.04662169]),\n",
       " 'mean_score_time': array([1.35846543, 2.11681199, 2.52027527, 2.05592243, 2.23214904,\n",
       "        2.15892935, 2.13867323, 1.2348899 ]),\n",
       " 'std_score_time': array([0.04256247, 0.05148315, 1.25252188, 0.26582649, 0.08892742,\n",
       "        0.30334809, 0.20514439, 0.42837368]),\n",
       " 'param_clf__learning_rate': masked_array(data=[0.05, 0.05, 0.05, 0.05, 0.15, 0.15, 0.15, 0.15],\n",
       "              mask=[False, False, False, False, False, False, False, False],\n",
       "        fill_value='?',\n",
       "             dtype=object),\n",
       " 'param_clf__max_depth': masked_array(data=[2, 2, 3, 3, 2, 2, 3, 3],\n",
       "              mask=[False, False, False, False, False, False, False, False],\n",
       "        fill_value='?',\n",
       "             dtype=object),\n",
       " 'param_clf__n_estimators': masked_array(data=[50, 100, 50, 100, 50, 100, 50, 100],\n",
       "              mask=[False, False, False, False, False, False, False, False],\n",
       "        fill_value='?',\n",
       "             dtype=object),\n",
       " 'params': [{'clf__learning_rate': 0.05,\n",
       "   'clf__max_depth': 2,\n",
       "   'clf__n_estimators': 50},\n",
       "  {'clf__learning_rate': 0.05, 'clf__max_depth': 2, 'clf__n_estimators': 100},\n",
       "  {'clf__learning_rate': 0.05, 'clf__max_depth': 3, 'clf__n_estimators': 50},\n",
       "  {'clf__learning_rate': 0.05, 'clf__max_depth': 3, 'clf__n_estimators': 100},\n",
       "  {'clf__learning_rate': 0.15, 'clf__max_depth': 2, 'clf__n_estimators': 50},\n",
       "  {'clf__learning_rate': 0.15, 'clf__max_depth': 2, 'clf__n_estimators': 100},\n",
       "  {'clf__learning_rate': 0.15, 'clf__max_depth': 3, 'clf__n_estimators': 50},\n",
       "  {'clf__learning_rate': 0.15, 'clf__max_depth': 3, 'clf__n_estimators': 100}],\n",
       " 'split0_test_score': array([0.67004228, 0.66061723, 0.67004036, 0.65997245, 0.65831957,\n",
       "        0.66568989, 0.65377355, 0.63431116]),\n",
       " 'split1_test_score': array([0.67882465, 0.68979399, 0.68074003, 0.69718821, 0.68675012,\n",
       "        0.68326623, 0.68962818, 0.66970609]),\n",
       " 'split2_test_score': array([0.69471168, 0.69421834, 0.68269546, 0.68832248, 0.68555717,\n",
       "        0.67660457, 0.68085293, 0.66136496]),\n",
       " 'mean_test_score': array([0.68119287, 0.68154319, 0.67782528, 0.68182771, 0.67687562,\n",
       "        0.6751869 , 0.67475155, 0.6551274 ]),\n",
       " 'std_test_score': array([0.01020951, 0.01490672, 0.00556236, 0.01587219, 0.01313015,\n",
       "        0.0072452 , 0.01526016, 0.01510807]),\n",
       " 'rank_test_score': array([3, 2, 4, 1, 5, 6, 7, 8], dtype=int32),\n",
       " 'split0_train_score': array([0.70401522, 0.74228207, 0.75579316, 0.80550669, 0.78459606,\n",
       "        0.85869945, 0.86128328, 0.93523142]),\n",
       " 'split1_train_score': array([0.7001704 , 0.73461476, 0.7428865 , 0.79693281, 0.77319458,\n",
       "        0.84863667, 0.85938955, 0.92994512]),\n",
       " 'split2_train_score': array([0.69118362, 0.74247718, 0.73088395, 0.80495545, 0.78637338,\n",
       "        0.85838705, 0.87333935, 0.93231021]),\n",
       " 'mean_train_score': array([0.69845641, 0.73979134, 0.74318787, 0.80246498, 0.78138801,\n",
       "        0.85524106, 0.86467073, 0.93249559]),\n",
       " 'std_train_score': array([0.00537685, 0.00366126, 0.01017137, 0.0039183 , 0.00583889,\n",
       "        0.00467175, 0.00617821, 0.0021621 ])}"
      ]
     },
     "execution_count": 35,
     "metadata": {},
     "output_type": "execute_result"
    }
   ],
   "source": [
    "cv_grid_results['xgb'].cv_results_"
   ]
  },
  {
   "cell_type": "code",
   "execution_count": 30,
   "id": "ba8b9b47",
   "metadata": {},
   "outputs": [
    {
     "data": {
      "text/plain": [
       "0.6818277112565125"
      ]
     },
     "execution_count": 30,
     "metadata": {},
     "output_type": "execute_result"
    }
   ],
   "source": [
    "cv_grid_results['xgb'].best_score_"
   ]
  },
  {
   "cell_type": "code",
   "execution_count": 36,
   "id": "d1e3e827",
   "metadata": {},
   "outputs": [
    {
     "data": {
      "text/plain": [
       "0.7223733307148468"
      ]
     },
     "execution_count": 36,
     "metadata": {},
     "output_type": "execute_result"
    }
   ],
   "source": [
    "y_test_pred = cv_grid_results['xgb'].best_estimator_.predict_proba(X_test)[:, 1]\n",
    "roc_auc_score(y_test,y_test_pred)"
   ]
  },
  {
   "cell_type": "code",
   "execution_count": 37,
   "id": "14fe6ed4",
   "metadata": {},
   "outputs": [
    {
     "data": {
      "text/plain": [
       "{'clf__learning_rate': 0.05, 'clf__max_depth': 3, 'clf__n_estimators': 100}"
      ]
     },
     "execution_count": 37,
     "metadata": {},
     "output_type": "execute_result"
    }
   ],
   "source": [
    "cv_grid_results['xgb'].best_params_"
   ]
  },
  {
   "cell_type": "markdown",
   "id": "649c2b26",
   "metadata": {},
   "source": [
    "Especially Xgboost has improved significantly. As there is more potential I am now going to focus on xgboost. Nevertheless the result is still not too good and there is a lot of room for improvement. There is also a gap between the cross-validatin and the holdout result. \n",
    "\n",
    "In the beginning I showed that the data is extremly imbalanced. The positive cases account only for around 1 percent of the data. I will try a sampling method to see whether upsamling the minoriy class can have a positive effect. \n",
    "\n",
    "First I am going to try it with creating a relatin of around 1/10"
   ]
  },
  {
   "cell_type": "code",
   "execution_count": 41,
   "id": "e8589219",
   "metadata": {},
   "outputs": [
    {
     "name": "stdout",
     "output_type": "stream",
     "text": [
      "0.012377796642659583\n",
      "0.09090909090909091\n"
     ]
    }
   ],
   "source": [
    "print(y_train.sum() / y_train.shape[0])\n",
    "\n",
    "from imblearn.over_sampling import RandomOverSampler \n",
    "ros = RandomOverSampler(sampling_strategy=1/10,random_state=42)\n",
    "X_res, y_res = ros.fit_resample(X, y)\n",
    "\n",
    "print(y_res.sum() / y_res.shape[0])"
   ]
  },
  {
   "cell_type": "code",
   "execution_count": 42,
   "id": "8508bd0e",
   "metadata": {},
   "outputs": [],
   "source": [
    "xgb_mod = xgb.XGBClassifier(eval_metric='logloss',use_label_encoder=False,random_state=42)\n",
    "\n",
    "kfold = StratifiedKFold(n_splits=3, shuffle=True, random_state=42)\n",
    "\n",
    "xgb_grid = {\n",
    "    'xgbclassifier__n_estimators': [100,150],\n",
    "    'xgbclassifier__max_depth': [3,4],\n",
    "    'xgbclassifier__learning_rate': [0.05],\n",
    "}\n",
    "\n",
    "# bug as Pipeline and RandomOverSampler dont work together (at least in conda version) \n",
    "# https://stackoverflow.com/questions/62489182/trying-to-use-imblearn-pipeline-with-randomoversampler-and-decisiontreeclassifie\n",
    "# create Pipeline\n",
    "#model_pipeline = Pipeline([\n",
    "#    ('prep',col_trans),\n",
    "#    ('sample', RandomOverSampler(sampling_strategy=1/10,random_state=42)),\n",
    "#    ('clf',model)\n",
    "# ])\n",
    "\n",
    "model_pipeline = make_pipeline(col_trans,ros,xgb_mod)\n",
    "\n",
    "# create grid\n",
    "grid_search = GridSearchCV(estimator=model_pipeline,\n",
    "                           param_grid= xgb_grid,\n",
    "                           n_jobs=-1, \n",
    "                           cv=kfold, \n",
    "                           verbose=2,\n",
    "                           return_train_score=True,\n",
    "                           scoring='roc_auc')\n",
    "\n",
    "\n",
    "\n"
   ]
  },
  {
   "cell_type": "code",
   "execution_count": 43,
   "id": "4809381f",
   "metadata": {},
   "outputs": [
    {
     "name": "stdout",
     "output_type": "stream",
     "text": [
      "Fitting 3 folds for each of 4 candidates, totalling 12 fits\n"
     ]
    },
    {
     "data": {
      "text/plain": [
       "GridSearchCV(cv=StratifiedKFold(n_splits=3, random_state=42, shuffle=True),\n",
       "             estimator=Pipeline(steps=[('columntransformer',\n",
       "                                        ColumnTransformer(transformers=[('categorical',\n",
       "                                                                         Pipeline(steps=[('imputer',\n",
       "                                                                                          SimpleImputer(fill_value=99,\n",
       "                                                                                                        strategy='constant')),\n",
       "                                                                                         ('one_hot',\n",
       "                                                                                          OneHotEncoder(handle_unknown='ignore'))]),\n",
       "                                                                         array(['AKT_DAT_KL', 'CAMEO_DEUG_2015', 'CJT_GESAMTTYP'...\n",
       "                                                      random_state=42,\n",
       "                                                      reg_alpha=None,\n",
       "                                                      reg_lambda=None,\n",
       "                                                      scale_pos_weight=None,\n",
       "                                                      subsample=None,\n",
       "                                                      tree_method=None,\n",
       "                                                      use_label_encoder=False,\n",
       "                                                      validate_parameters=None,\n",
       "                                                      verbosity=None))]),\n",
       "             n_jobs=-1,\n",
       "             param_grid={'xgbclassifier__learning_rate': [0.05],\n",
       "                         'xgbclassifier__max_depth': [3, 4],\n",
       "                         'xgbclassifier__n_estimators': [100, 150]},\n",
       "             return_train_score=True, scoring='roc_auc', verbose=2)"
      ]
     },
     "execution_count": 43,
     "metadata": {},
     "output_type": "execute_result"
    }
   ],
   "source": [
    "grid_search.fit(X_train,y_train)\n",
    "\n"
   ]
  },
  {
   "cell_type": "code",
   "execution_count": 68,
   "id": "ec608053",
   "metadata": {},
   "outputs": [
    {
     "data": {
      "text/plain": [
       "{'xgbclassifier__learning_rate': 0.05,\n",
       " 'xgbclassifier__max_depth': 3,\n",
       " 'xgbclassifier__n_estimators': 100}"
      ]
     },
     "execution_count": 68,
     "metadata": {},
     "output_type": "execute_result"
    }
   ],
   "source": [
    "grid_search.best_params_"
   ]
  },
  {
   "cell_type": "code",
   "execution_count": 69,
   "id": "4194089b",
   "metadata": {},
   "outputs": [
    {
     "data": {
      "text/plain": [
       "{'mean_fit_time': array([133.42410477, 194.0529604 , 167.06257097, 189.40137092]),\n",
       " 'std_fit_time': array([ 0.44349922,  6.12493168, 18.77503625, 10.01399196]),\n",
       " 'mean_score_time': array([2.11138312, 1.99294623, 2.40530745, 1.13178976]),\n",
       " 'std_score_time': array([0.21666079, 0.40453681, 0.14290868, 0.38624522]),\n",
       " 'param_xgbclassifier__learning_rate': masked_array(data=[0.05, 0.05, 0.05, 0.05],\n",
       "              mask=[False, False, False, False],\n",
       "        fill_value='?',\n",
       "             dtype=object),\n",
       " 'param_xgbclassifier__max_depth': masked_array(data=[3, 3, 4, 4],\n",
       "              mask=[False, False, False, False],\n",
       "        fill_value='?',\n",
       "             dtype=object),\n",
       " 'param_xgbclassifier__n_estimators': masked_array(data=[100, 150, 100, 150],\n",
       "              mask=[False, False, False, False],\n",
       "        fill_value='?',\n",
       "             dtype=object),\n",
       " 'params': [{'xgbclassifier__learning_rate': 0.05,\n",
       "   'xgbclassifier__max_depth': 3,\n",
       "   'xgbclassifier__n_estimators': 100},\n",
       "  {'xgbclassifier__learning_rate': 0.05,\n",
       "   'xgbclassifier__max_depth': 3,\n",
       "   'xgbclassifier__n_estimators': 150},\n",
       "  {'xgbclassifier__learning_rate': 0.05,\n",
       "   'xgbclassifier__max_depth': 4,\n",
       "   'xgbclassifier__n_estimators': 100},\n",
       "  {'xgbclassifier__learning_rate': 0.05,\n",
       "   'xgbclassifier__max_depth': 4,\n",
       "   'xgbclassifier__n_estimators': 150}],\n",
       " 'split0_test_score': array([0.66392959, 0.66422679, 0.65399802, 0.65163453]),\n",
       " 'split1_test_score': array([0.69077913, 0.68873454, 0.69045916, 0.67372234]),\n",
       " 'split2_test_score': array([0.67689986, 0.67129571, 0.68284365, 0.66859293]),\n",
       " 'mean_test_score': array([0.67720286, 0.67475235, 0.67576695, 0.66464993]),\n",
       " 'std_test_score': array([0.01096337, 0.01029947, 0.01570379, 0.00943851]),\n",
       " 'rank_test_score': array([1, 3, 2, 4], dtype=int32),\n",
       " 'split0_train_score': array([0.85714452, 0.90024234, 0.9262965 , 0.94821557]),\n",
       " 'split1_train_score': array([0.85482784, 0.89516217, 0.9160917 , 0.94417783]),\n",
       " 'split2_train_score': array([0.8616369 , 0.89746304, 0.92354714, 0.94995844]),\n",
       " 'mean_train_score': array([0.85786975, 0.89762252, 0.92197845, 0.94745061]),\n",
       " 'std_train_score': array([0.00282669, 0.00207703, 0.00431123, 0.00242112])}"
      ]
     },
     "execution_count": 69,
     "metadata": {},
     "output_type": "execute_result"
    }
   ],
   "source": [
    "grid_search.cv_results_"
   ]
  },
  {
   "cell_type": "code",
   "execution_count": 67,
   "id": "33bcd597",
   "metadata": {},
   "outputs": [
    {
     "data": {
      "text/plain": [
       "0.7303819717203456"
      ]
     },
     "execution_count": 67,
     "metadata": {},
     "output_type": "execute_result"
    }
   ],
   "source": [
    "#y_test_pred2 = grid_search.predict_proba(X_test)[:, 1]\n",
    "roc_auc_score(y_test,y_test_pred2)"
   ]
  },
  {
   "cell_type": "markdown",
   "id": "c9029e01",
   "metadata": {},
   "source": [
    "The sampling has already improved the results!"
   ]
  },
  {
   "cell_type": "markdown",
   "id": "5b4a5f42",
   "metadata": {},
   "source": [
    "# Testset "
   ]
  },
  {
   "cell_type": "code",
   "execution_count": 3,
   "id": "866dbe7f",
   "metadata": {},
   "outputs": [
    {
     "name": "stderr",
     "output_type": "stream",
     "text": [
      "/var/folders/s2/ybtczy7s68qcb8mdvszb6zmm0000gn/T/ipykernel_3673/1909432373.py:1: FutureWarning: The error_bad_lines argument has been deprecated and will be removed in a future version.\n",
      "\n",
      "\n",
      "  mailout_test = import_raw_data('Udacity_MAILOUT_052018_TEST.csv',data_dir)\n"
     ]
    }
   ],
   "source": [
    "mailout_test = import_raw_data('Udacity_MAILOUT_052018_TEST.csv',data_dir)\n",
    "\n"
   ]
  },
  {
   "cell_type": "code",
   "execution_count": 4,
   "id": "7cea1379",
   "metadata": {},
   "outputs": [
    {
     "data": {
      "text/plain": [
       "(42833, 366)"
      ]
     },
     "execution_count": 4,
     "metadata": {},
     "output_type": "execute_result"
    }
   ],
   "source": [
    "mailout_test.shape"
   ]
  },
  {
   "cell_type": "code",
   "execution_count": 56,
   "id": "ba26d7b4",
   "metadata": {},
   "outputs": [
    {
     "name": "stderr",
     "output_type": "stream",
     "text": [
      "/var/folders/s2/ybtczy7s68qcb8mdvszb6zmm0000gn/T/ipykernel_3153/2710037532.py:1: FutureWarning: The error_bad_lines argument has been deprecated and will be removed in a future version.\n",
      "\n",
      "\n",
      "  mailout_test = import_raw_data('Udacity_MAILOUT_052018_TEST.csv',data_dir)\n"
     ]
    },
    {
     "name": "stdout",
     "output_type": "stream",
     "text": [
      "The data dictionary is imported.\n",
      "The data dictionary is used to map the missing values.\n",
      "Attribute PRAEGENDE_JUGENDJAHRE_MAINSTREAM is not available in DataFrame.\n",
      "Attribute PRAEGENDE_JUGENDJAHRE_YEARS is not available in DataFrame.\n",
      "Attribute CAMEO_INTL_Economic is not available in DataFrame.\n",
      "Attribute CAMEO_INTL_Family is not available in DataFrame.\n",
      "The functions engineer_cameo_intl and engineer_praegende_jj are used to engineer additional variables\n",
      "The following attributes are dropped because they are not in the data dictionary: []\n",
      "The following attributes are dropped because they have too many missings or too many levels: ['LNR' 'AGER_TYP' 'ALTER_HH' 'ALTER_KIND1' 'ALTER_KIND2' 'ALTER_KIND3'\n",
      " 'ALTER_KIND4' 'ALTERSKATEGORIE_FEIN' 'CAMEO_DEU_2015' 'CAMEO_INTL_2015'\n",
      " 'D19_BANKEN_ANZ_12' 'D19_BANKEN_ANZ_24' 'D19_BANKEN_DATUM'\n",
      " 'D19_BANKEN_OFFLINE_DATUM' 'D19_BANKEN_ONLINE_DATUM'\n",
      " 'D19_BANKEN_ONLINE_QUOTE_12' 'D19_GESAMT_ANZ_12' 'D19_GESAMT_ANZ_24'\n",
      " 'D19_GESAMT_DATUM' 'D19_GESAMT_OFFLINE_DATUM' 'D19_GESAMT_ONLINE_DATUM'\n",
      " 'D19_GESAMT_ONLINE_QUOTE_12' 'D19_KONSUMTYP' 'D19_LETZTER_KAUF_BRANCHE'\n",
      " 'D19_LOTTO' 'D19_SOZIALES' 'D19_TELKO_ANZ_12' 'D19_TELKO_ANZ_24'\n",
      " 'D19_TELKO_DATUM' 'D19_TELKO_OFFLINE_DATUM' 'D19_TELKO_ONLINE_DATUM'\n",
      " 'D19_TELKO_ONLINE_QUOTE_12' 'D19_VERSAND_ANZ_12' 'D19_VERSAND_ANZ_24'\n",
      " 'D19_VERSAND_DATUM' 'D19_VERSAND_OFFLINE_DATUM'\n",
      " 'D19_VERSAND_ONLINE_DATUM' 'D19_VERSAND_ONLINE_QUOTE_12'\n",
      " 'D19_VERSI_ANZ_12' 'D19_VERSI_ANZ_24' 'D19_VERSI_ONLINE_QUOTE_12'\n",
      " 'EINGEFUEGT_AM' 'EINGEZOGENAM_HH_JAHR' 'EXTSEL992' 'GEBURTSJAHR'\n",
      " 'GEMEINDETYP' 'KBA05_BAUMAX' 'KK_KUNDENTYP' 'LP_LEBENSPHASE_FEIN'\n",
      " 'MIN_GEBAEUDEJAHR' 'PRAEGENDE_JUGENDJAHRE' 'TITEL_KZ' 'VERDICHTUNGSRAUM']\n"
     ]
    }
   ],
   "source": [
    "mailout_test = import_raw_data('Udacity_MAILOUT_052018_TEST.csv',data_dir)\n",
    "mailout_test_cleaned = etl.clean_data(mailout_test,data_dir)\n",
    "mailout_test_preds = model_pipeline.predict_proba(mailout_test_cleaned)[:,1]"
   ]
  },
  {
   "cell_type": "code",
   "execution_count": 57,
   "id": "cc1ffb6f",
   "metadata": {},
   "outputs": [],
   "source": [
    "test_result_df = pd.DataFrame({\n",
    "  'LNR': mailout_test['LNR'],\n",
    "  'RESPONSE': mailout_test_preds\n",
    "}\n",
    ")"
   ]
  },
  {
   "cell_type": "code",
   "execution_count": 58,
   "id": "9fc281d2",
   "metadata": {},
   "outputs": [],
   "source": [
    "test_result_path = os.path.join(data_dir,'02_models/','kaggle_output_test_new.csv')\n",
    "test_result_df.to_csv(test_result_path,index=False)"
   ]
  }
 ],
 "metadata": {
  "kernelspec": {
   "display_name": "Python 3 (ipykernel)",
   "language": "python",
   "name": "python3"
  },
  "language_info": {
   "codemirror_mode": {
    "name": "ipython",
    "version": 3
   },
   "file_extension": ".py",
   "mimetype": "text/x-python",
   "name": "python",
   "nbconvert_exporter": "python",
   "pygments_lexer": "ipython3",
   "version": "3.9.7"
  }
 },
 "nbformat": 4,
 "nbformat_minor": 5
}
