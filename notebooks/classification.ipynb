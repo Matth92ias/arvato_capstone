{
 "cells": [
  {
   "cell_type": "code",
   "execution_count": 49,
   "metadata": {},
   "outputs": [],
   "source": [
    "import os\n",
    "import sys\n",
    "import re\n",
    "\n",
    "src_dir = os.path.join(os.getcwd(), '..', 'src')\n",
    "sys.path.append(src_dir)\n",
    "data_dir = os.path.join(os.getcwd(), '..', 'data')\n",
    "\n",
    "# import libraries here; add more as necessary\n",
    "import numpy as np\n",
    "import pandas as pd\n",
    "\n",
    "from sklearn.pipeline import Pipeline\n",
    "from sklearn.compose import ColumnTransformer\n",
    "\n",
    "from sklearn.impute import SimpleImputer\n",
    "from sklearn.preprocessing import StandardScaler, OneHotEncoder\n",
    "\n",
    "from sklearn.model_selection import GridSearchCV\n",
    "from sklearn.ensemble import GradientBoostingClassifier\n",
    "\n",
    "import matplotlib.pyplot as plt\n",
    "\n",
    "from import_module import import_raw_data\n",
    "import etl\n",
    "import pipe\n",
    "\n",
    "import joblib\n",
    "\n",
    "\n",
    "# magic word for producing visualizations in notebook\n",
    "%matplotlib inline"
   ]
  },
  {
   "cell_type": "markdown",
   "metadata": {},
   "source": [
    "# Supervised Learning Model"
   ]
  },
  {
   "cell_type": "markdown",
   "metadata": {},
   "source": [
    "Import training data"
   ]
  },
  {
   "cell_type": "code",
   "execution_count": 50,
   "metadata": {},
   "outputs": [
    {
     "name": "stdout",
     "output_type": "stream",
     "text": [
      "The data dictionary is imported.\n",
      "The data dictionary is used to map the missing values.\n",
      "Attribute PRAEGENDE_JUGENDJAHRE_MAINSTREAM is not available in DataFrame.\n",
      "Attribute PRAEGENDE_JUGENDJAHRE_YEARS is not available in DataFrame.\n",
      "Attribute CAMEO_INTL_Economic is not available in DataFrame.\n",
      "Attribute CAMEO_INTL_Family is not available in DataFrame.\n",
      "The functions engineer_cameo_intl and engineer_praegende_jj are used to engineer additional variables\n",
      "The following attributes are dropped because they are not in the data dictionary: []\n",
      "The following attributes are dropped because they have too many missings or too many levels: ['LNR' 'AGER_TYP' 'ALTER_HH' 'ALTER_KIND1' 'ALTER_KIND2' 'ALTER_KIND3'\n",
      " 'ALTER_KIND4' 'ALTERSKATEGORIE_FEIN' 'CAMEO_DEU_2015' 'CAMEO_INTL_2015'\n",
      " 'D19_BANKEN_ANZ_12' 'D19_BANKEN_ANZ_24' 'D19_BANKEN_DATUM'\n",
      " 'D19_BANKEN_OFFLINE_DATUM' 'D19_BANKEN_ONLINE_DATUM'\n",
      " 'D19_BANKEN_ONLINE_QUOTE_12' 'D19_GESAMT_ANZ_12' 'D19_GESAMT_ANZ_24'\n",
      " 'D19_GESAMT_DATUM' 'D19_GESAMT_OFFLINE_DATUM' 'D19_GESAMT_ONLINE_DATUM'\n",
      " 'D19_GESAMT_ONLINE_QUOTE_12' 'D19_KONSUMTYP' 'D19_LETZTER_KAUF_BRANCHE'\n",
      " 'D19_LOTTO' 'D19_SOZIALES' 'D19_TELKO_ANZ_12' 'D19_TELKO_ANZ_24'\n",
      " 'D19_TELKO_DATUM' 'D19_TELKO_OFFLINE_DATUM' 'D19_TELKO_ONLINE_DATUM'\n",
      " 'D19_TELKO_ONLINE_QUOTE_12' 'D19_VERSAND_ANZ_12' 'D19_VERSAND_ANZ_24'\n",
      " 'D19_VERSAND_DATUM' 'D19_VERSAND_OFFLINE_DATUM'\n",
      " 'D19_VERSAND_ONLINE_DATUM' 'D19_VERSAND_ONLINE_QUOTE_12'\n",
      " 'D19_VERSI_ANZ_12' 'D19_VERSI_ANZ_24' 'D19_VERSI_ONLINE_QUOTE_12'\n",
      " 'EINGEFUEGT_AM' 'EINGEZOGENAM_HH_JAHR' 'EXTSEL992' 'GEBURTSJAHR'\n",
      " 'GEMEINDETYP' 'KBA05_BAUMAX' 'KK_KUNDENTYP' 'LP_LEBENSPHASE_FEIN'\n",
      " 'MIN_GEBAEUDEJAHR' 'PRAEGENDE_JUGENDJAHRE' 'TITEL_KZ' 'VERDICHTUNGSRAUM']\n"
     ]
    }
   ],
   "source": [
    "mailout_train = import_raw_data('Udacity_MAILOUT_052018_TRAIN.csv',data_dir)\n",
    "mailout_train.head()\n",
    "mailout_train = etl.clean_data(mailout_train,data_dir,True)"
   ]
  },
  {
   "cell_type": "markdown",
   "metadata": {},
   "source": [
    "Create transformation pipeline with data dictionary "
   ]
  },
  {
   "cell_type": "code",
   "execution_count": 51,
   "metadata": {},
   "outputs": [],
   "source": [
    "data_dict_path = os.path.join(data_dir,'01_preprocessed/','data_dictionary_full.xlsx')\n",
    "data_dict = pd.read_excel(data_dict_path, index_col=0)\n",
    "col_trans = pipe.define_pipeline(data_dict)"
   ]
  },
  {
   "cell_type": "code",
   "execution_count": 52,
   "metadata": {},
   "outputs": [],
   "source": [
    "X_train = mailout_train.drop(columns= 'RESPONSE',axis=1)\n",
    "y_train = mailout_train[\"RESPONSE\"].values"
   ]
  },
  {
   "cell_type": "markdown",
   "metadata": {},
   "source": [
    "Create pipeline for model fitting and parameter grid"
   ]
  },
  {
   "cell_type": "code",
   "execution_count": 53,
   "metadata": {},
   "outputs": [],
   "source": [
    "model_pipe = Pipeline([\n",
    "        ('transform', col_trans),\n",
    "        ('clf', GradientBoostingClassifier(random_state=42))\n",
    "        ])"
   ]
  },
  {
   "cell_type": "code",
   "execution_count": 54,
   "metadata": {},
   "outputs": [],
   "source": [
    "params = [{'clf__max_depth': [3],\n",
    "           'clf__learning_rate': [0.05,0.1],\n",
    "           'clf__min_samples_split': [2],\n",
    "           'clf__n_estimators': [50,100]}]  "
   ]
  },
  {
   "cell_type": "code",
   "execution_count": 55,
   "metadata": {},
   "outputs": [
    {
     "name": "stdout",
     "output_type": "stream",
     "text": [
      "Fitting 3 folds for each of 4 candidates, totalling 12 fits\n",
      "[CV 1/3] END clf__learning_rate=0.05, clf__max_depth=3, clf__min_samples_split=2, clf__n_estimators=50;, score=0.672 total time=  57.0s\n",
      "[CV 2/3] END clf__learning_rate=0.05, clf__max_depth=3, clf__min_samples_split=2, clf__n_estimators=50;, score=0.711 total time=  55.5s\n",
      "[CV 3/3] END clf__learning_rate=0.05, clf__max_depth=3, clf__min_samples_split=2, clf__n_estimators=50;, score=0.693 total time=  54.0s\n",
      "[CV 1/3] END clf__learning_rate=0.05, clf__max_depth=3, clf__min_samples_split=2, clf__n_estimators=100;, score=0.667 total time= 1.8min\n",
      "[CV 2/3] END clf__learning_rate=0.05, clf__max_depth=3, clf__min_samples_split=2, clf__n_estimators=100;, score=0.708 total time= 1.8min\n",
      "[CV 3/3] END clf__learning_rate=0.05, clf__max_depth=3, clf__min_samples_split=2, clf__n_estimators=100;, score=0.688 total time= 1.8min\n",
      "[CV 1/3] END clf__learning_rate=0.1, clf__max_depth=3, clf__min_samples_split=2, clf__n_estimators=50;, score=0.666 total time=  53.8s\n",
      "[CV 2/3] END clf__learning_rate=0.1, clf__max_depth=3, clf__min_samples_split=2, clf__n_estimators=50;, score=0.710 total time=  56.0s\n",
      "[CV 3/3] END clf__learning_rate=0.1, clf__max_depth=3, clf__min_samples_split=2, clf__n_estimators=50;, score=0.696 total time=  55.2s\n",
      "[CV 1/3] END clf__learning_rate=0.1, clf__max_depth=3, clf__min_samples_split=2, clf__n_estimators=100;, score=0.663 total time= 1.8min\n",
      "[CV 2/3] END clf__learning_rate=0.1, clf__max_depth=3, clf__min_samples_split=2, clf__n_estimators=100;, score=0.704 total time= 1.9min\n",
      "[CV 3/3] END clf__learning_rate=0.1, clf__max_depth=3, clf__min_samples_split=2, clf__n_estimators=100;, score=0.690 total time= 1.8min\n"
     ]
    },
    {
     "data": {
      "text/plain": [
       "GridSearchCV(cv=3,\n",
       "             estimator=Pipeline(steps=[('transform',\n",
       "                                        ColumnTransformer(transformers=[('categorical',\n",
       "                                                                         Pipeline(steps=[('imputer',\n",
       "                                                                                          SimpleImputer(fill_value=99,\n",
       "                                                                                                        strategy='constant')),\n",
       "                                                                                         ('one_hot',\n",
       "                                                                                          OneHotEncoder(handle_unknown='ignore'))]),\n",
       "                                                                         array(['AKT_DAT_KL', 'CAMEO_DEUG_2015', 'CJT_GESAMTTYP',\n",
       "       'CJT_KATALOGNUTZER', 'CJT_TYP_1', 'CJT_TYP_2', 'CJT_TYP_3',\n",
       "       'CJT_T...\n",
       "                                                                         Pipeline(steps=[('imputer',\n",
       "                                                                                          SimpleImputer(strategy='most_frequent'))]),\n",
       "                                                                         array(['GREEN_AVANTGARDE', 'OST_WEST_KZ', 'VERS_TYP', 'ANREDE_KZ'],\n",
       "      dtype=object))])),\n",
       "                                       ('clf',\n",
       "                                        GradientBoostingClassifier(random_state=42))]),\n",
       "             param_grid=[{'clf__learning_rate': [0.05, 0.1],\n",
       "                          'clf__max_depth': [3], 'clf__min_samples_split': [2],\n",
       "                          'clf__n_estimators': [50, 100]}],\n",
       "             scoring='roc_auc', verbose=3)"
      ]
     },
     "execution_count": 55,
     "metadata": {},
     "output_type": "execute_result"
    }
   ],
   "source": [
    "gridsearch = GridSearchCV(model_pipe,params,scoring='roc_auc',verbose=3,cv=3)\n",
    "gridsearch.fit(X_train,y_train)"
   ]
  },
  {
   "cell_type": "markdown",
   "metadata": {},
   "source": [
    "check results "
   ]
  },
  {
   "cell_type": "code",
   "execution_count": 59,
   "metadata": {},
   "outputs": [
    {
     "data": {
      "text/plain": [
       "[{'clf__learning_rate': 0.05,\n",
       "  'clf__max_depth': 3,\n",
       "  'clf__min_samples_split': 2,\n",
       "  'clf__n_estimators': 50},\n",
       " {'clf__learning_rate': 0.05,\n",
       "  'clf__max_depth': 3,\n",
       "  'clf__min_samples_split': 2,\n",
       "  'clf__n_estimators': 100},\n",
       " {'clf__learning_rate': 0.1,\n",
       "  'clf__max_depth': 3,\n",
       "  'clf__min_samples_split': 2,\n",
       "  'clf__n_estimators': 50},\n",
       " {'clf__learning_rate': 0.1,\n",
       "  'clf__max_depth': 3,\n",
       "  'clf__min_samples_split': 2,\n",
       "  'clf__n_estimators': 100}]"
      ]
     },
     "execution_count": 59,
     "metadata": {},
     "output_type": "execute_result"
    }
   ],
   "source": [
    "gridsearch.cv_results_['params']"
   ]
  },
  {
   "cell_type": "code",
   "execution_count": 57,
   "metadata": {},
   "outputs": [
    {
     "data": {
      "text/plain": [
       "array([0.69210606, 0.68764682, 0.69087372, 0.68589449])"
      ]
     },
     "execution_count": 57,
     "metadata": {},
     "output_type": "execute_result"
    }
   ],
   "source": [
    "gridsearch.cv_results_['mean_test_score']"
   ]
  },
  {
   "cell_type": "code",
   "execution_count": 34,
   "metadata": {},
   "outputs": [],
   "source": [
    "cat_vars = pipe.get_attr_by_type('categorical',data_dict)\n",
    "cat_vars_ohe = gridsearch.best_estimator_.named_steps['transform'].named_transformers_['categorical']['one_hot'].get_feature_names(cat_vars)\n",
    "num_vars = pipe.get_attr_by_type('numeric',data_dict)\n",
    "bin_vars = pipe.get_attr_by_type('binary',data_dict)\n",
    "all_vars = np.concatenate((cat_vars_ohe ,num_vars,bin_vars))"
   ]
  },
  {
   "cell_type": "markdown",
   "metadata": {},
   "source": [
    "In the following feature importance you can see the most important features. Especially the Konsumtyp_max has the most important influence on the model."
   ]
  },
  {
   "cell_type": "code",
   "execution_count": 105,
   "metadata": {},
   "outputs": [
    {
     "data": {
      "image/png": "[encoded data removed]",
      "text/plain": [
       "<Figure size 360x576 with 1 Axes>"
      ]
     },
     "metadata": {},
     "output_type": "display_data"
    }
   ],
   "source": [
    "feature_importances= gridsearch.best_estimator_.steps[1][1].feature_importances_\n",
    "feature_imp_plot_path = os.path.join(data_dir,'99_plots','feature_importance.png')\n",
    "\n",
    "feature_importances_series = pd.Series(feature_importances, index=all_vars).sort_values()[-40:]\n",
    "plt.figure(figsize=(5, 8))\n",
    "plt.barh(feature_importances_series.index,feature_importances_series)\n",
    "\n",
    "plt.title('Feature Importance Top 40')\n",
    "plt.savefig(feature_imp_plot_path,bbox_inches = 'tight')"
   ]
  },
  {
   "cell_type": "markdown",
   "metadata": {},
   "source": [
    "Entire pipeline is saved so it can be used for later predictions"
   ]
  },
  {
   "cell_type": "code",
   "execution_count": 106,
   "metadata": {},
   "outputs": [
    {
     "data": {
      "text/plain": [
       "['/Users/matthiaslenfers/code/arvato_capstone/notebooks/../data/02_models/gridsearch.pkl']"
      ]
     },
     "execution_count": 106,
     "metadata": {},
     "output_type": "execute_result"
    }
   ],
   "source": [
    "gridsearch_path = os.path.join(data_dir,'02_models/','gridsearch.pkl')\n",
    "joblib.dump(gridsearch, gridsearch_path) "
   ]
  },
  {
   "cell_type": "markdown",
   "metadata": {},
   "source": [
    "# Kaggle Competition"
   ]
  },
  {
   "cell_type": "markdown",
   "metadata": {},
   "source": [
    "Load previously done object with fitted pipeline"
   ]
  },
  {
   "cell_type": "code",
   "execution_count": 107,
   "metadata": {},
   "outputs": [],
   "source": [
    "gridsearch = joblib.load(gridsearch_path) "
   ]
  },
  {
   "cell_type": "code",
   "execution_count": 108,
   "metadata": {},
   "outputs": [
    {
     "name": "stdout",
     "output_type": "stream",
     "text": [
      "The data dictionary is imported.\n",
      "The data dictionary is used to map the missing values.\n",
      "Attribute PRAEGENDE_JUGENDJAHRE_MAINSTREAM is not available in DataFrame.\n",
      "Attribute PRAEGENDE_JUGENDJAHRE_YEARS is not available in DataFrame.\n",
      "Attribute CAMEO_INTL_Economic is not available in DataFrame.\n",
      "Attribute CAMEO_INTL_Family is not available in DataFrame.\n",
      "The functions engineer_cameo_intl and engineer_praegende_jj are used to engineer additional variables\n",
      "The following attributes are dropped because they are not in the data dictionary: []\n",
      "The following attributes are dropped because they have too many missings or too many levels: ['LNR' 'AGER_TYP' 'ALTER_HH' 'ALTER_KIND1' 'ALTER_KIND2' 'ALTER_KIND3'\n",
      " 'ALTER_KIND4' 'ALTERSKATEGORIE_FEIN' 'CAMEO_DEU_2015' 'CAMEO_INTL_2015'\n",
      " 'D19_BANKEN_ANZ_12' 'D19_BANKEN_ANZ_24' 'D19_BANKEN_DATUM'\n",
      " 'D19_BANKEN_OFFLINE_DATUM' 'D19_BANKEN_ONLINE_DATUM'\n",
      " 'D19_BANKEN_ONLINE_QUOTE_12' 'D19_GESAMT_ANZ_12' 'D19_GESAMT_ANZ_24'\n",
      " 'D19_GESAMT_DATUM' 'D19_GESAMT_OFFLINE_DATUM' 'D19_GESAMT_ONLINE_DATUM'\n",
      " 'D19_GESAMT_ONLINE_QUOTE_12' 'D19_KONSUMTYP' 'D19_LETZTER_KAUF_BRANCHE'\n",
      " 'D19_LOTTO' 'D19_SOZIALES' 'D19_TELKO_ANZ_12' 'D19_TELKO_ANZ_24'\n",
      " 'D19_TELKO_DATUM' 'D19_TELKO_OFFLINE_DATUM' 'D19_TELKO_ONLINE_DATUM'\n",
      " 'D19_TELKO_ONLINE_QUOTE_12' 'D19_VERSAND_ANZ_12' 'D19_VERSAND_ANZ_24'\n",
      " 'D19_VERSAND_DATUM' 'D19_VERSAND_OFFLINE_DATUM'\n",
      " 'D19_VERSAND_ONLINE_DATUM' 'D19_VERSAND_ONLINE_QUOTE_12'\n",
      " 'D19_VERSI_ANZ_12' 'D19_VERSI_ANZ_24' 'D19_VERSI_ONLINE_QUOTE_12'\n",
      " 'EINGEFUEGT_AM' 'EINGEZOGENAM_HH_JAHR' 'EXTSEL992' 'GEBURTSJAHR'\n",
      " 'GEMEINDETYP' 'KBA05_BAUMAX' 'KK_KUNDENTYP' 'LP_LEBENSPHASE_FEIN'\n",
      " 'MIN_GEBAEUDEJAHR' 'PRAEGENDE_JUGENDJAHRE' 'TITEL_KZ' 'VERDICHTUNGSRAUM']\n"
     ]
    }
   ],
   "source": [
    "mailout_test = import_raw_data('Udacity_MAILOUT_052018_TEST.csv',data_dir)\n",
    "mailout_test_cleaned = etl.clean_data(mailout_test,data_dir)\n",
    "mailout_test_preds = gridsearch.predict_proba(mailout_test_cleaned)[:,1]"
   ]
  },
  {
   "cell_type": "markdown",
   "metadata": {},
   "source": [
    "Put all together in dataframe which can be saved afterwards"
   ]
  },
  {
   "cell_type": "code",
   "execution_count": 109,
   "metadata": {},
   "outputs": [],
   "source": [
    "test_result_df = pd.DataFrame({\n",
    "  'LNR': mailout_test['LNR'],\n",
    "  'RESPONSE': mailout_test_preds\n",
    "}\n",
    ")"
   ]
  },
  {
   "cell_type": "markdown",
   "metadata": {},
   "source": [
    "Save in folder models"
   ]
  },
  {
   "cell_type": "code",
   "execution_count": 110,
   "metadata": {},
   "outputs": [],
   "source": [
    "test_result_path = os.path.join(data_dir,'02_models/','kaggle_output_test.csv')\n",
    "test_result_df.to_csv(test_result_path,index=False)"
   ]
  },
  {
   "cell_type": "code",
   "execution_count": null,
   "metadata": {},
   "outputs": [],
   "source": []
  },
  {
   "cell_type": "code",
   "execution_count": null,
   "metadata": {},
   "outputs": [],
   "source": []
  }
 ],
 "metadata": {
  "kernelspec": {
   "display_name": "Python 3 (ipykernel)",
   "language": "python",
   "name": "python3"
  },
  "language_info": {
   "codemirror_mode": {
    "name": "ipython",
    "version": 3
   },
   "file_extension": ".py",
   "mimetype": "text/x-python",
   "name": "python",
   "nbconvert_exporter": "python",
   "pygments_lexer": "ipython3",
   "version": "3.9.7"
  }
 },
 "nbformat": 4,
 "nbformat_minor": 2
}
